{
  "nbformat": 4,
  "nbformat_minor": 0,
  "metadata": {
    "colab": {
      "name": "Updated_FlaskApp.ipynb",
      "provenance": [],
      "collapsed_sections": [],
      "include_colab_link": true
    },
    "kernelspec": {
      "display_name": "Python 3",
      "name": "python3"
    },
    "language_info": {
      "name": "python"
    }
  },
  "cells": [
    {
      "cell_type": "markdown",
      "metadata": {
        "id": "view-in-github",
        "colab_type": "text"
      },
      "source": [
        "<a href=\"https://colab.research.google.com/github/simonsny/image_background_removal/blob/main/FlaskApp.ipynb\" target=\"_parent\"><img src=\"https://colab.research.google.com/assets/colab-badge.svg\" alt=\"Open In Colab\"/></a>"
      ]
    },
    {
      "cell_type": "markdown",
      "metadata": {
        "id": "IVX1MKqg3LMT"
      },
      "source": [
        "# Background Removal with Flask Application \n",
        "\n",
        "![TeamTheano](https://img.shields.io/badge/ProjectBy:-Simon,Gulce,Louan,Arlene-<COLOR>.svg)\n",
        "\n",
        "<p> To use this notebook, please run all the cells in this notebook. </p>\n"
      ]
    },
    {
      "cell_type": "markdown",
      "metadata": {
        "id": "W2gyuRc6cQ7N"
      },
      "source": [
        "First, you need to connect your Google Colab to your Google Drive. \n"
      ]
    },
    {
      "cell_type": "code",
      "metadata": {
        "id": "UyoPTWT1cSg9"
      },
      "source": [
        "from google.colab import drive\n",
        "drive.mount('/content/drive')"
      ],
      "execution_count": null,
      "outputs": []
    },
    {
      "cell_type": "markdown",
      "metadata": {
        "id": "niHkRngUcYiv"
      },
      "source": [
        "Then you need to install the Flask-ngrok to be able to run the Flask app inside the Google Colab.\n"
      ]
    },
    {
      "cell_type": "code",
      "metadata": {
        "id": "paoNutB-qSbF"
      },
      "source": [
        "\n",
        "!pip install flask-ngrok \n"
      ],
      "execution_count": null,
      "outputs": []
    },
    {
      "cell_type": "markdown",
      "metadata": {
        "id": "87NjXbh8cbVY"
      },
      "source": [
        "After that, we import all the necessary libraries for this project."
      ]
    },
    {
      "cell_type": "code",
      "metadata": {
        "id": "S9_0gN0HNQ-e"
      },
      "source": [
        "import os\n",
        "import cv2\n",
        "import numpy as np\n",
        "import torch\n",
        "from torchvision import transforms, utils\n",
        "from skimage import io, transform, color\n",
        "import torchvision\n",
        "from torch.autograd import Variable\n",
        "import torch.nn as nn\n",
        "import torch.nn.functional as F\n",
        "from torch.utils.data import Dataset, DataLoader\n",
        "import numpy as np\n",
        "from PIL import Image\n",
        "import glob\n",
        "from __future__ import print_function, division\n",
        "import random\n",
        "import math\n",
        "import matplotlib.pyplot as plt\n",
        "\n",
        "%cd /content/drive/MyDrive/BeCode/Faktion/U-2-Net/\n",
        "from data_loader import RescaleT\n",
        "from data_loader import ToTensor\n",
        "from data_loader import ToTensorLab\n",
        "from data_loader import SalObjDataset\n",
        "from model import U2NET "
      ],
      "execution_count": null,
      "outputs": []
    },
    {
      "cell_type": "markdown",
      "metadata": {
        "id": "kmksQX4DNv39"
      },
      "source": [
        "Then get the binary mask from the [U2Net model](https://github.com/xuebinqin/U-2-Net)."
      ]
    },
    {
      "cell_type": "code",
      "metadata": {
        "id": "2LGIzFGyvjOf"
      },
      "source": [
        "def normPRED(d):\n",
        "    \"\"\"\n",
        "    Function that will normalize the predicted SOD probability map\n",
        "    :attrib d will contain the prediction\n",
        "    :attrib db will contain the normalized prediction\n",
        "    This function will return the dn as the normalized prediction\n",
        "    \"\"\"\n",
        "    ma = torch.max(d)\n",
        "    mi = torch.min(d)\n",
        "    dn = (d-mi)/(ma-mi)\n",
        "    return dn\n",
        "\n",
        "def save_output(image_name,predict,d_dir):\n",
        "    \"\"\"\n",
        "    Function that will save the output/result image\n",
        "    :attrib image_name will be the name of the image\n",
        "    :attrib predict will be the predicted output\n",
        "    :attrib d_dir will be the directory of the saved output/result \n",
        "    :attrib predict_np will contain the predicted numpy array\n",
        "    :attrib im will contain the array image\n",
        "    :attrib img_name will be the image name\n",
        "    :attrib image will contain the read image_name using io.imread\n",
        "    :attrib imo will contain the resized image\n",
        "    This function will save the prediction in the d_dir with a .png extension\n",
        "    \"\"\"\n",
        "    predict = predict.squeeze()\n",
        "    predict_np = predict.cpu().data.numpy()\n",
        "    im = Image.fromarray(predict_np*255).convert('RGB')\n",
        "    img_name = image_name.split(os.sep)[-1]\n",
        "    image = io.imread(image_name)\n",
        "    imo = im.resize((image.shape[1],image.shape[0]),resample=Image.BILINEAR)\n",
        "    pb_np = np.array(imo)\n",
        "    aaa = img_name.split(\".\")\n",
        "    bbb = aaa[0:-1]\n",
        "    imidx = bbb[0]\n",
        "    for i in range(1,len(bbb)):\n",
        "        imidx = imidx + \".\" + bbb[i]\n",
        "\n",
        "    imo.save(d_dir+imidx+'.png')\n",
        "\n",
        "def u2net(filename):\n",
        "    \"\"\"\n",
        "    Function that will get the alpha matte from the U2Net which we will then use as a binary mask\n",
        "    :attrib filename contains the image file path\n",
        "    This function will load the U2net model and save the and return the output \n",
        "    \"\"\"\n",
        "    %cd /content/drive/MyDrive/BeCode/Faktion/U-2-Net/\n",
        "    prediction_dir = '/content/drive/MyDrive/BeCode/Faktion/Flask/static/binary_mask/'\n",
        "    model_dir =  '/content/drive/MyDrive/BeCode/Faktion/U-2-Net/saved_models/u2net/u2net.pth'\n",
        "    img_name_list = [filename.split(\"/\")[-1]]\n",
        "    print(img_name_list)\n",
        "    %cd '/content/drive/MyDrive/BeCode/Faktion/Flask/static/uploads/' \n",
        "    test_salobj_dataset = SalObjDataset(img_name_list = img_name_list,\n",
        "                                        lbl_name_list = [],\n",
        "                                        transform=transforms.Compose([RescaleT(320),\n",
        "                                                                      ToTensorLab(flag=0)])\n",
        "                                        )\n",
        "    test_salobj_dataloader = DataLoader(test_salobj_dataset,\n",
        "                                        batch_size=1,\n",
        "                                        shuffle=False,\n",
        "                                        num_workers=1)\n",
        "    net = U2NET(3,1)\n",
        "    if torch.cuda.is_available():\n",
        "        net.load_state_dict(torch.load(model_dir))\n",
        "        net.cuda()\n",
        "    else:\n",
        "        net.load_state_dict(torch.load(model_dir, map_location='cpu'))\n",
        "    net.eval()\n",
        "    for i_test, data_test in enumerate(test_salobj_dataloader):\n",
        "        print(\"inferencing:\",img_name_list[i_test].split(os.sep)[-1])\n",
        "        inputs_test = data_test['image']\n",
        "        inputs_test = inputs_test.type(torch.FloatTensor)\n",
        "        if torch.cuda.is_available():\n",
        "            inputs_test = Variable(inputs_test.cuda())\n",
        "        else:\n",
        "            inputs_test = Variable(inputs_test)\n",
        "        d1,d2,d3,d4,d5,d6,d7= net(inputs_test)\n",
        "        pred = d1[:,0,:,:]\n",
        "        pred = normPRED(pred)\n",
        "        if not os.path.exists(prediction_dir):\n",
        "            os.makedirs(prediction_dir, exist_ok=True)\n",
        "        save_output(img_name_list[i_test],pred,prediction_dir)\n",
        "        del d1,d2,d3,d4,d5,d6,d7\n",
        "    print(\"Successfully created the binary mask\")\n",
        "    return filename.split(\".\")[0] + \".png\""
      ],
      "execution_count": null,
      "outputs": []
    },
    {
      "cell_type": "markdown",
      "metadata": {
        "id": "dslFdPM-2J7K"
      },
      "source": [
        "Now that we already have the binary mask from U2Net, we need to trimap. To do that we have function to get the trimap using the binary mask."
      ]
    },
    {
      "cell_type": "code",
      "metadata": {
        "id": "DIU--dpmNTab"
      },
      "source": [
        "def generate_trimap(mask_path, open_size=10, mask_margin=10):\n",
        "    \"\"\"\n",
        "    Function that will generate the trimap\n",
        "    :attrib mask_path is the path of the created binary mask\n",
        "    :attrib mask will contain the read mask_path\n",
        "    :attrib foregound will contain the predicted foreground region\n",
        "    :attrib background will contain the predicted background region\n",
        "    :attrib unknown will contain the unknown region\n",
        "    :attrib trimap will contain the trimap which will then be saved inside the trimap folder\n",
        "    This function will save the binary mask and return it as the output\n",
        "    \"\"\"\n",
        "    mask = cv2.imread(mask_path, 0)\n",
        "    assert mask.ndim == 2\n",
        "    foreground = ((255 - mask_margin) < mask)\n",
        "    background = (mask < mask_margin)\n",
        "    unknown = ~(foreground + background)\n",
        "    unknown = cv2.dilate(\n",
        "        unknown.astype(np.uint8),\n",
        "        cv2.getStructuringElement(cv2.MORPH_ELLIPSE, (open_size, open_size))\n",
        "    ).astype(np.bool)\n",
        "    trimap = np.zeros_like(mask)\n",
        "    trimap[foreground] = 255\n",
        "    trimap[unknown] = 127\n",
        "    cv2.imwrite(f\"/content/drive/MyDrive/BeCode/Faktion/Flask/static/trimap/{mask_path.split('/')[-1]}\",trimap)\n",
        "    return mask_path.split('/')[-1]    "
      ],
      "execution_count": null,
      "outputs": []
    },
    {
      "cell_type": "markdown",
      "metadata": {
        "id": "isbIcoTcFcAJ"
      },
      "source": [
        "Since we now have the binary mask and the trimap, we can now generate the alpha matte using the [DIM pretrained model](https://github.com/foamliu/Deep-Image-Matting-PyTorch)."
      ]
    },
    {
      "cell_type": "code",
      "metadata": {
        "id": "wpvwuKaxNU6Y"
      },
      "source": [
        "def alpha_matte(file):\n",
        "  \"\"\"\n",
        "  Function that will generate the alpha matte from the original and the trimap\n",
        "  :attrib file will contain the original image\n",
        "  :attrib device will contain the torch.device\n",
        "  :attrib IMG_FOLDER will be the uploaded image folder\n",
        "  :attrib TRIMAP_FOLDER will be the trimap folder\n",
        "  :attrib matte_folder will be the matte folder\n",
        "  :attrib checkpoint will be the DIM pretrained model best checkpoint\n",
        "  :attrib model will contain the model\n",
        "  This function will return the alpha matte and save it in the matte folder\n",
        "  \"\"\"\n",
        "  device = torch.device('cuda' if torch.cuda.is_available() else 'cpu')  # sets device for model and PyTorch tensors\n",
        "  %cd /content/drive/MyDrive/BeCode/Faktion/model_code/\n",
        "  IMG_FOLDER = '/content/drive/MyDrive/BeCode/Faktion/Flask/static/uploads/'\n",
        "  TRIMAP_FOLDER = '/content/drive/MyDrive/BeCode/Faktion/Flask/static/trimap/'\n",
        "  matte_folder = '/content/drive/MyDrive/BeCode/Faktion/Flask/static/matte/'\n",
        "  checkpoint = '/content/drive/MyDrive/BeCode/Faktion/BEST_checkpoint.tar'\n",
        "  checkpoint = torch.load(checkpoint)\n",
        "  model = checkpoint['model'].module\n",
        "  model = model.to(device)\n",
        "  model.eval()\n",
        "\n",
        "  \"\"\"\n",
        "  :attrib filename will contain the file path\n",
        "  :attrib img will contain the read filename\n",
        "  :attrib h and w are the shape of the image height and width\n",
        "  :attrib x will contain the torch zeros\n",
        "  :attrib transformer will contain the transforms.Compose\n",
        "  \"\"\"\n",
        "  filename = os.path.join(IMG_FOLDER, file)\n",
        "  img = cv.imread(filename)\n",
        "  h, w = img.shape[:2]\n",
        "  x = torch.zeros((1, 4, h, w), dtype=torch.float)\n",
        "  image = img[..., ::-1]  # RGB\n",
        "  image = transforms.ToPILImage()(image)\n",
        "  transformer = transforms.Compose(\n",
        "      [\n",
        "        transforms.ToTensor(),\n",
        "        transforms.Normalize([0.485, 0.456, 0.406], [0.229, 0.224, 0.225])\n",
        "  ])\n",
        "  image = transformer(image)\n",
        "  x[0:, 0:3, :, :] = image\n",
        "  \n",
        "  \"\"\"\n",
        "  :attrib filename will contain the trimap file path\n",
        "  :attrib trimap will contain the read filename\n",
        "  :attrib h and w are the shape of the image height and width\n",
        "  :attrib pred will contain the predicted matte\n",
        "  :attrib out will contain the pred in a np.uint8 type which will then be saved in the matte folder\n",
        "  \"\"\"\n",
        "  filename = os.path.join(TRIMAP_FOLDER, file.replace('.jpg', '.png'))\n",
        "  trimap = cv.imread(filename, 0)\n",
        "  x[0:, 3, :, :] = torch.from_numpy(trimap.copy() / 255.)\n",
        "  x = x.type(torch.FloatTensor).to(device)\n",
        "  with torch.no_grad():\n",
        "      pred = model(x)\n",
        "  pred = pred.cpu().numpy()\n",
        "  pred = pred.reshape((h, w))\n",
        "  pred[trimap == 0] = 0.0\n",
        "  pred[trimap == 255] = 1.0\n",
        "  out = (pred.copy() * 255).astype(np.uint8)\n",
        "  cv.imwrite(matte_folder+file.replace('.jpg', '.png'), out)\n",
        "  print(f'Created an alpha matte for  {file}.'.format(filename))\n",
        "  return matte_folder + file.replace('.jpg', '.png')"
      ],
      "execution_count": null,
      "outputs": []
    },
    {
      "cell_type": "markdown",
      "metadata": {
        "id": "4aNI65Fgcf-O"
      },
      "source": [
        "Getting the foreground image using the original image and the alpha matte.\n"
      ]
    },
    {
      "cell_type": "code",
      "metadata": {
        "id": "n1rrTaBTciFM"
      },
      "source": [
        "def foreground_img(image, alpha, filename):\n",
        "  \"\"\"\n",
        "  Function that will remove the background from the image\n",
        "  :attrib image will contain the uploaded image\n",
        "  :attrib alpha will contain the alpha matte\n",
        "  :attrib filename will be the filename of the saved image\n",
        "  :attrib img will read the image\n",
        "  :attrib matte will read the alpha\n",
        "  :attrib foregound will be the matte multiplied by img\n",
        "  This function will return the filename\n",
        "  \"\"\"\n",
        "  img = cv2.imread(image)\n",
        "  matte = cv2.imread(alpha)\n",
        "  img = img.astype(float)\n",
        "  matte = matte.astype(float)/255\n",
        "  foreground = cv2.multiply(matte, img)\n",
        "  cv2.imwrite(output_dir+filename,  foreground)\n",
        "  print(f\"Successfully saved the foreground image for {filename}.\")\n",
        "  return filename"
      ],
      "execution_count": null,
      "outputs": []
    },
    {
      "cell_type": "markdown",
      "metadata": {
        "id": "-OoaxQJNcjeh"
      },
      "source": [
        "And finally, the Flask Application will start here."
      ]
    },
    {
      "cell_type": "code",
      "metadata": {
        "id": "VDP64lno2N3b"
      },
      "source": [
        "import os\n",
        "from flask_ngrok import run_with_ngrok\n",
        "from flask import Flask, flash, render_template, request, redirect, url_for, send_file\n",
        "import time\n",
        "from werkzeug.utils import secure_filename\n",
        "from google.colab.patches import cv2_imshow\n",
        "\n",
        "\"\"\"\n",
        ":attrib upload_dir contains the upload path of the uploaded image\n",
        ":attrib output_dir contains the output/result image \n",
        ":attrib matte_dir contains the alpha matte of the image\n",
        ":allowed_extensions contains the list of allowed image file extensions\n",
        "\"\"\"\n",
        "upload_dir = '/content/drive/MyDrive/BeCode/Faktion/Flask/static/uploads/'\n",
        "output_dir = '/content/drive/MyDrive/BeCode/Faktion/Flask/static/output/'\n",
        "matte_dir = '/content/drive/MyDrive/BeCode/Faktion/Flask/static/matte/'\n",
        "trimap_dir = '/content/drive/MyDrive/BeCode/Faktion/Flask/static/trimap/'\n",
        "binary_dir = '/content/drive/MyDrive/BeCode/Faktion/Flask/static/binary_mask/'\n",
        "allowed_extensions = {\"png\", \"jpg\", \"jpeg\", \"gif\"}\n",
        "\n",
        "app = Flask(__name__, template_folder='/content/drive/MyDrive/BeCode/Faktion/Flask/templates/', static_folder='/content/drive/MyDrive/BeCode/Faktion/Flask/static')\n",
        "run_with_ngrok(app)\n",
        "app.secret_key = \"secret key\"\n",
        "app.config[\"UPLOAD_FOLDER\"] = upload_dir\n",
        "\n",
        "def allowed_file(filename):\n",
        "    \"\"\"\n",
        "    Function that checks that the file extensions is included on the allowed list.\n",
        "    \"\"\"\n",
        "    return \".\" in filename and filename.rsplit(\".\", 1)[1].lower() in allowed_extensions\n",
        "\n",
        "@app.route(\"/\")\n",
        "def home():\n",
        "    \"\"\"\n",
        "    Function that returns the home page.\n",
        "    \"\"\"\n",
        "    return render_template(\"home.html\")\n",
        "\n",
        "@app.route(\"/start\", methods=[\"GET\", \"POST\"])\n",
        "def start():\n",
        "    \"\"\"\n",
        "    Function that has both GET and POST method.\n",
        "    This is the function where it will ask the user input and \n",
        "    then return the input with the edited version of the input\n",
        "    \"\"\"\n",
        "    if request.method == \"GET\":\n",
        "        return render_template(\"start.html\")\n",
        "\n",
        "    if request.method == \"POST\":\n",
        "        if \"image\" not in request.files and \"video\" not in request.files:\n",
        "            return redirect(request.url)\n",
        "        \"\"\"\n",
        "        :attrib image will contain the image user input \n",
        "        :attrib video will contain the video user input\n",
        "        :attrib start will contain the start time on when the program started\n",
        "        :attrib end will contain the end time on when the program ended\n",
        "        \"\"\"\n",
        "        image = request.files.get(\"image\")\n",
        "        print(f\"Image Input: {image}\")\n",
        "        video = request.files.get(\"video\")\n",
        "        print(f\"Video Input: {video}\")\n",
        "        start = time.time()\n",
        "\n",
        "        if image == \"\" and video == \"\":\n",
        "            return redirect(request.url)\n",
        "\n",
        "        elif image:\n",
        "            if allowed_file(image.filename):\n",
        "                \"\"\"\n",
        "                :attrib image_upload will contain the secured uploaded image\n",
        "                :attrib binary_mask will call the u2net function to get the binary mask\n",
        "                :attrib trimap will call the generate_trimap function to get the trimap\n",
        "                :attrib matte_name will call the alpha_matte function to get the alpha matte\n",
        "                :attrib image_path will contain the image path of the uploaded image\n",
        "                :attrib edited_image will call the foreground_img function to get the foreground\n",
        "                :attrib foreground will contain the edited/result image file path\n",
        "                \"\"\"\n",
        "                image_upload = secure_filename(image.filename)\n",
        "                image.save(os.path.join(app.config[\"UPLOAD_FOLDER\"], image_upload))\n",
        "                binary_mask = u2net(image_upload)\n",
        "                trimap = generate_trimap(binary_dir + binary_mask)\n",
        "                matte_name = alpha_matte(image.filename)\n",
        "                image_path = upload_dir + image.filename\n",
        "                edited_image = foreground_img(image_path, matte_name, image.filename)\n",
        "                foreground = Image.open(os.path.join(output_dir, edited_image))\n",
        "                end = time.time()\n",
        "                print(f\"Program runs for {end - start} seconds.\")\n",
        "                return render_template(\"upload_image.html\", filename=image_upload)\n",
        "            else:\n",
        "                flash(\"Chosen file is not supported! Please upload an image file.\")\n",
        "                flash(\"Allowed image types are -> png, jpg, jpeg, gif\")\n",
        "                return redirect(request.url)\n",
        "        elif video:\n",
        "            print(\"Elif video file\")\n",
        "            end = time.time()\n",
        "            print(f\"Program runs for {end - start} seconds.\")\n",
        "            return render_template(\"home.html\")\n",
        "        else:\n",
        "            return render_template(\"start.html\")\n",
        "\n",
        "@app.route(\"/display/<filename>\")\n",
        "def display_image(filename):\n",
        "    \"\"\"\n",
        "    Function that displays the uploaded image.\n",
        "    \"\"\"\n",
        "    print(f\"Display image : {filename}\")\n",
        "    return redirect(url_for(\"static\", filename=\"uploads/\" + filename), code=301)\n",
        "    \n",
        "@app.route(\"/edited/<filename>\")\n",
        "def edited_image(filename):\n",
        "    \"\"\"\n",
        "    Function that displayes the edited image/result image.\n",
        "    \"\"\"\n",
        "    print(f\"Edited image : {filename}\")\n",
        "    return redirect(url_for(\"static\", filename=\"output/\" + filename), code=301)\n",
        "\n",
        "@app.route(\"/save_file/<filename>\")\n",
        "def save_file(filename):\n",
        "    \"\"\"\n",
        "    Function that that allows the user to save/download the image.\n",
        "    \"\"\"\n",
        "    path = f\"/content/drive/MyDrive/BeCode/Faktion/Flask/static/output/{filename}\"\n",
        "    print(f\"Send File Path: {path}\")\n",
        "    return send_file(path, as_attachment=True)\n",
        "\n",
        "@app.route(\"/upload_image\")\n",
        "def upload_image():\n",
        "    \"\"\"\n",
        "    Function that returns the upload_image page.\n",
        "    \"\"\"\n",
        "    return render_template(\"upload_image.html\")\n",
        "\n",
        "@app.route(\"/howtouse\")\n",
        "def howtouse():\n",
        "    \"\"\"\n",
        "    Function that returns the how to use page.\n",
        "    \"\"\"\n",
        "    return render_template(\"howtouse.html\")\n",
        "\n",
        "@app.route(\"/about\")\n",
        "def about():\n",
        "    \"\"\"\n",
        "    Function that returns the about page.\n",
        "    \"\"\"\n",
        "    return render_template(\"about.html\")\n",
        "\n",
        "@app.route(\"/live_feed\")\n",
        "def live_feed():\n",
        "    \"\"\"\n",
        "    Function that returns the live feed page.\n",
        "    \"\"\"\n",
        "    return render_template(\"live_feed.html\")\n",
        "\n",
        "if __name__ == \"__main__\":\n",
        "    app.run()"
      ],
      "execution_count": null,
      "outputs": []
    },
    {
      "cell_type": "code",
      "metadata": {
        "id": "rshVywJ7_RgG"
      },
      "source": [
        ""
      ],
      "execution_count": null,
      "outputs": []
    }
  ]
}