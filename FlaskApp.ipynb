{
  "nbformat": 4,
  "nbformat_minor": 0,
  "metadata": {
    "colab": {
      "name": "FlaskApp.ipynb",
      "provenance": [],
      "collapsed_sections": [],
      "authorship_tag": "ABX9TyM3scJIc3icLB07j1PWmerM",
      "include_colab_link": true
    },
    "kernelspec": {
      "name": "python3",
      "display_name": "Python 3"
    },
    "language_info": {
      "name": "python"
    }
  },
  "cells": [
    {
      "cell_type": "markdown",
      "metadata": {
        "id": "view-in-github",
        "colab_type": "text"
      },
      "source": [
        "<a href=\"https://colab.research.google.com/github/simonsny/image_background_removal/blob/dev_simon/FlaskApp.ipynb\" target=\"_parent\"><img src=\"https://colab.research.google.com/assets/colab-badge.svg\" alt=\"Open In Colab\"/></a>"
      ]
    },
    {
      "cell_type": "markdown",
      "metadata": {
        "id": "W2gyuRc6cQ7N"
      },
      "source": [
        "Connecting Google Colab to your Google Drive\n"
      ]
    },
    {
      "cell_type": "code",
      "metadata": {
        "id": "UyoPTWT1cSg9",
        "colab": {
          "base_uri": "https://localhost:8080/"
        },
        "outputId": "d5b16b71-57b4-4d3e-de2d-2cc97097b7d6"
      },
      "source": [
        "from google.colab import drive\n",
        "drive.mount('/content/drive')"
      ],
      "execution_count": 1,
      "outputs": [
        {
          "output_type": "stream",
          "text": [
            "Mounted at /content/drive\n"
          ],
          "name": "stdout"
        }
      ]
    },
    {
      "cell_type": "markdown",
      "metadata": {
        "id": "niHkRngUcYiv"
      },
      "source": [
        "Installing the Flask-ngrok to be able to run the Flask app\n"
      ]
    },
    {
      "cell_type": "code",
      "metadata": {
        "colab": {
          "base_uri": "https://localhost:8080/"
        },
        "id": "paoNutB-qSbF",
        "outputId": "a0f242dc-1a2f-46d8-b508-33c56f5c8cef"
      },
      "source": [
        "\n",
        "!pip install flask-ngrok \n"
      ],
      "execution_count": 2,
      "outputs": [
        {
          "output_type": "stream",
          "text": [
            "Collecting flask-ngrok\n",
            "  Downloading https://files.pythonhosted.org/packages/af/6c/f54cb686ad1129e27d125d182f90f52b32f284e6c8df58c1bae54fa1adbc/flask_ngrok-0.0.25-py3-none-any.whl\n",
            "Requirement already satisfied: Flask>=0.8 in /usr/local/lib/python3.7/dist-packages (from flask-ngrok) (1.1.4)\n",
            "Requirement already satisfied: requests in /usr/local/lib/python3.7/dist-packages (from flask-ngrok) (2.23.0)\n",
            "Requirement already satisfied: click<8.0,>=5.1 in /usr/local/lib/python3.7/dist-packages (from Flask>=0.8->flask-ngrok) (7.1.2)\n",
            "Requirement already satisfied: Jinja2<3.0,>=2.10.1 in /usr/local/lib/python3.7/dist-packages (from Flask>=0.8->flask-ngrok) (2.11.3)\n",
            "Requirement already satisfied: Werkzeug<2.0,>=0.15 in /usr/local/lib/python3.7/dist-packages (from Flask>=0.8->flask-ngrok) (1.0.1)\n",
            "Requirement already satisfied: itsdangerous<2.0,>=0.24 in /usr/local/lib/python3.7/dist-packages (from Flask>=0.8->flask-ngrok) (1.1.0)\n",
            "Requirement already satisfied: chardet<4,>=3.0.2 in /usr/local/lib/python3.7/dist-packages (from requests->flask-ngrok) (3.0.4)\n",
            "Requirement already satisfied: idna<3,>=2.5 in /usr/local/lib/python3.7/dist-packages (from requests->flask-ngrok) (2.10)\n",
            "Requirement already satisfied: urllib3!=1.25.0,!=1.25.1,<1.26,>=1.21.1 in /usr/local/lib/python3.7/dist-packages (from requests->flask-ngrok) (1.24.3)\n",
            "Requirement already satisfied: certifi>=2017.4.17 in /usr/local/lib/python3.7/dist-packages (from requests->flask-ngrok) (2020.12.5)\n",
            "Requirement already satisfied: MarkupSafe>=0.23 in /usr/local/lib/python3.7/dist-packages (from Jinja2<3.0,>=2.10.1->Flask>=0.8->flask-ngrok) (2.0.1)\n",
            "Installing collected packages: flask-ngrok\n",
            "Successfully installed flask-ngrok-0.0.25\n"
          ],
          "name": "stdout"
        }
      ]
    },
    {
      "cell_type": "markdown",
      "metadata": {
        "id": "87NjXbh8cbVY"
      },
      "source": [
        "Downloading the MODNet pretrained model."
      ]
    },
    {
      "cell_type": "code",
      "metadata": {
        "colab": {
          "base_uri": "https://localhost:8080/"
        },
        "id": "adFSGonKqTFN",
        "outputId": "3b3f10ef-d28f-4b87-94ac-f5318b24c17d"
      },
      "source": [
        "import os\n",
        "\n",
        "# clone the repository\n",
        "%cd /content/drive/MyDrive/BeCode/Faktion/\n",
        "if not os.path.exists('MODNet'):\n",
        "  !git clone https://github.com/ZHKKKe/MODNet\n",
        "%cd MODNet/\n",
        "\n",
        "# dowload the pre-trained ckpt for video matting\n",
        "pretrained_webcam_ckpt = 'pretrained/modnet_webcam_portrait_matting.ckpt'\n",
        "if not os.path.exists(pretrained_webcam_ckpt):\n",
        "  !gdown --id 1Nf1ZxeJZJL8Qx9KadcYYyEmmlKhTADxX \\\n",
        "          -O pretrained/modnet_webcam_portrait_matting.ckpt\n",
        "\n",
        "# dowload the pre-trained ckpt for image matting\n",
        "pretrained_image_ckpt = 'pretrained/modnet_photographic_portrait_matting.ckpt'\n",
        "if not os.path.exists(pretrained_image_ckpt):\n",
        "  !gdown --id 1mcr7ALciuAsHCpLnrtG_eop5-EYhbCmz \\\n",
        "          -O pretrained/modnet_photographic_portrait_matting.ckpt"
      ],
      "execution_count": 3,
      "outputs": [
        {
          "output_type": "stream",
          "text": [
            "/content/drive/MyDrive/BeCode/Faktion\n",
            "/content/drive/MyDrive/BeCode/Faktion/MODNet\n"
          ],
          "name": "stdout"
        }
      ]
    },
    {
      "cell_type": "markdown",
      "metadata": {
        "id": "4aNI65Fgcf-O"
      },
      "source": [
        "Getting the inference code for image matting."
      ]
    },
    {
      "cell_type": "code",
      "metadata": {
        "id": "n1rrTaBTciFM"
      },
      "source": [
        "import os\n",
        "import sys\n",
        "import numpy as np\n",
        "from PIL import Image\n",
        "\n",
        "import cv2\n",
        "\n",
        "import torch\n",
        "import torch.nn as nn\n",
        "import torch.nn.functional as F\n",
        "import torchvision.transforms as transforms\n",
        "\n",
        "from src.models.modnet import MODNet\n",
        "\n",
        "upload_dir = '/content/drive/MyDrive/BeCode/Faktion/Flask/static/uploads/'\n",
        "matte_dir = '/content/drive/MyDrive/BeCode/Faktion/Flask/static/matte/'\n",
        "output_dir = '/content/drive/MyDrive/BeCode/Faktion/Flask/static/output/'\n",
        "pretrained_image_ckpt = '/content/drive/MyDrive/BeCode/Faktion/MODNet/pretrained/modnet_photographic_portrait_matting.ckpt'\n",
        "pretrained_webcam_ckpt = '/content/drive/MyDrive/BeCode/Faktion/MODNet/pretrained/pretrained/modnet_webcam_portrait_matting.ckpt'\n",
        "\n",
        "def image_ckpt(filename):\n",
        "    input_path = upload_dir + filename\n",
        "\n",
        "    # check input arguments\n",
        "    if not os.path.exists(upload_dir):\n",
        "        print(f'Cannot find input path: {upload_dir}')\n",
        "        exit()\n",
        "    if not os.path.exists(matte_dir):\n",
        "        print(f'Cannot find matte path: {matte_dir}')\n",
        "        exit()\n",
        "    if not os.path.exists(output_dir):\n",
        "        print(f'Cannot find output path: {output_dir}')\n",
        "        exit()\n",
        "    if not os.path.exists(pretrained_image_ckpt):\n",
        "        print(f'Cannot find ckpt path: {pretrained_image_ckpt}')\n",
        "        exit()\n",
        "\n",
        "    # define hyper-parameters\n",
        "    ref_size = 512\n",
        "\n",
        "    # define image to tensor transform\n",
        "    im_transform = transforms.Compose(\n",
        "        [\n",
        "            transforms.ToTensor(),\n",
        "            transforms.Normalize((0.5, 0.5, 0.5), (0.5, 0.5, 0.5))\n",
        "        ]\n",
        "    )\n",
        "\n",
        "    # create MODNet and load the pre-trained ckpt\n",
        "    modnet = MODNet(backbone_pretrained=False)\n",
        "    modnet = nn.DataParallel(modnet).cuda()\n",
        "    modnet.load_state_dict(torch.load(pretrained_image_ckpt))\n",
        "    modnet.eval()\n",
        "\n",
        "    # inference images\n",
        "    im_names = os.listdir(upload_dir)\n",
        "    if filename in im_names:\n",
        "        print(f'Process image: {filename}')\n",
        "\n",
        "        # read image\n",
        "        im = Image.open(os.path.join(upload_dir, filename))\n",
        "\n",
        "        # unify image channels to 3\n",
        "        im = np.asarray(im)\n",
        "        if len(im.shape) == 2:\n",
        "            im = im[:, :, None]\n",
        "        if im.shape[2] == 1:\n",
        "            im = np.repeat(im, 3, axis=2)\n",
        "        elif im.shape[2] == 4:\n",
        "            im = im[:, :, 0:3]\n",
        "\n",
        "        # convert image to PyTorch tensor\n",
        "        im = Image.fromarray(im)\n",
        "        im = im_transform(im)\n",
        "\n",
        "        # add mini-batch dim\n",
        "        im = im[None, :, :, :]\n",
        "\n",
        "        # resize image for input\n",
        "        im_b, im_c, im_h, im_w = im.shape\n",
        "        if max(im_h, im_w) < ref_size or min(im_h, im_w) > ref_size:\n",
        "            if im_w >= im_h:\n",
        "                im_rh = ref_size\n",
        "                im_rw = int(im_w / im_h * ref_size)\n",
        "            elif im_w < im_h:\n",
        "                im_rw = ref_size\n",
        "                im_rh = int(im_h / im_w * ref_size)\n",
        "        else:\n",
        "            im_rh = im_h\n",
        "            im_rw = im_w\n",
        "        \n",
        "        im_rw = im_rw - im_rw % 32\n",
        "        im_rh = im_rh - im_rh % 32\n",
        "        im = F.interpolate(im, size=(im_rh, im_rw), mode='area')\n",
        "\n",
        "        # inference\n",
        "        _, _, matte = modnet(im.cuda(), True)\n",
        "\n",
        "        # resize and save matte\n",
        "        matte = F.interpolate(matte, size=(im_h, im_w), mode='area')\n",
        "        matte = matte[0][0].data.cpu().numpy()\n",
        "        matte_name = filename.split('.')[0] + '.png'\n",
        "        Image.fromarray(((matte * 255).astype('uint8')), mode='L').save(os.path.join(matte_dir, matte_name))\n",
        "        print(f\"Successfully saved the alpha matte for {matte_name}\")\n",
        "        return matte_dir+matte_name\n",
        "\n",
        "def foreground_image(image, matte, filename):\n",
        "  print(f'Image name: {filename}')\n",
        "  # obtain predicted foreground\n",
        "  image = np.asarray(image)\n",
        "  if len(image.shape) == 2:\n",
        "    image = image[:, :, None]\n",
        "  if image.shape[2] == 1:\n",
        "    image = np.repeat(image, 3, axis=2)\n",
        "  elif image.shape[2] == 4:\n",
        "    image = image[:, :, 0:3]\n",
        "  matte = np.repeat(np.asarray(matte)[:, :, None], 3, axis=2) / 255\n",
        "  foreground = image * matte + np.full(image.shape, 255) * (1 - matte)\n",
        "  \n",
        "  foreground_name = filename.split('.')[0] + '.png'\n",
        "  Image.fromarray(((foreground).astype('uint8')), mode='L').save(os.path.join(outpur_dir, foreground_name))\n",
        "  print(f\"Successfully saved the foreground image {foreground_name}\")\n",
        "  return foreground_name\n",
        "\n",
        "def foreground_img(image, alpha, filename):\n",
        "  # Read the images\n",
        "  img = cv2.imread(image)\n",
        "  matte = cv2.imread(alpha)\n",
        "\n",
        "  # Convert uint8 to float\n",
        "  img = img.astype(float)\n",
        "\n",
        "  # Normalize the alpha matte mask to keep intensity between 0 and 1\n",
        "  matte = matte.astype(float)/255\n",
        "\n",
        "  # Multiply the foreground with the alpha matte\n",
        "  foreground = cv2.multiply(matte, img)\n",
        "\n",
        "  # Save image\n",
        "  cv2.imwrite(output_dir+filename,  foreground)\n",
        "  print(f\"Successfully saved the foreground image for {filename}.\")\n",
        "  return filename"
      ],
      "execution_count": 7,
      "outputs": []
    },
    {
      "cell_type": "markdown",
      "metadata": {
        "id": "-OoaxQJNcjeh"
      },
      "source": [
        "Flask Application starts here."
      ]
    },
    {
      "cell_type": "code",
      "metadata": {
        "id": "VDP64lno2N3b"
      },
      "source": [
        "import os\n",
        "from flask_ngrok import run_with_ngrok\n",
        "from flask import Flask, flash, render_template, request, redirect, url_for, send_file\n",
        "import time\n",
        "from werkzeug.utils import secure_filename\n",
        "\n",
        "\"\"\"\n",
        ":attrib upload_dir contains the upload path of the uploaded image\n",
        ":attrib output_dir contains the output/result image \n",
        ":attrib matte_dir contains the alpha matte of the image\n",
        ":allowed_extensions contains the list of allowed image file extensions\n",
        "\"\"\"\n",
        "upload_dir = '/content/drive/MyDrive/BeCode/Faktion/Flask/static/uploads/'\n",
        "output_dir = '/content/drive/MyDrive/BeCode/Faktion/Flask/static/output/'\n",
        "matte_dir = '/content/drive/MyDrive/BeCode/Faktion/Flask/static/matte/'\n",
        "allowed_extensions = {\"png\", \"jpg\", \"jpeg\", \"gif\"}\n",
        "\n",
        "app = Flask(__name__, template_folder='/content/drive/MyDrive/BeCode/Faktion/Flask/templates/', static_folder='/content/drive/MyDrive/BeCode/Faktion/Flask/static')\n",
        "run_with_ngrok(app)\n",
        "app.secret_key = \"secret key\"\n",
        "app.config[\"UPLOAD_FOLDER\"] = upload_dir\n",
        "\n",
        "def allowed_file(filename):\n",
        "    \"\"\"\n",
        "    Function that checks the file extensions is included on the allowed list.\n",
        "    \"\"\"\n",
        "    return \".\" in filename and filename.rsplit(\".\", 1)[1].lower() in allowed_extensions\n",
        "\n",
        "@app.route(\"/\")\n",
        "def home():\n",
        "    \"\"\"\n",
        "    Function that returns the home page.\n",
        "    \"\"\"\n",
        "    return render_template(\"home.html\")\n",
        "\n",
        "@app.route(\"/start\", methods=[\"GET\", \"POST\"])\n",
        "def start():\n",
        "    \"\"\"\n",
        "    Function that has both GET and POST method.\n",
        "    This is the function where it will ask the user input and \n",
        "    then return the input with the edited version of the input\n",
        "    \"\"\"\n",
        "    if request.method == \"GET\":\n",
        "        return render_template(\"start.html\")\n",
        "\n",
        "    if request.method == \"POST\":\n",
        "        if \"image\" not in request.files and \"video\" not in request.files:\n",
        "            return redirect(request.url)\n",
        "        \"\"\"\n",
        "        :attrib image will contain the image user input \n",
        "        :attrib video will contain the video user input\n",
        "        :attrib start will contain the start time on when the program started\n",
        "        :attrib end will contain the end time on when the program ended\n",
        "        \"\"\"\n",
        "        image = request.files.get(\"image\")\n",
        "        print(f\"Image Input: {image}\")\n",
        "        video = request.files.get(\"video\")\n",
        "        print(f\"Video Input: {video}\")\n",
        "        start = time.time()\n",
        "\n",
        "        if image == \"\" and video == \"\":\n",
        "            return redirect(request.url)\n",
        "\n",
        "        elif image:\n",
        "            print(\"Elif image file\")\n",
        "            if allowed_file(image.filename):\n",
        "                image_upload = secure_filename(image.filename)\n",
        "                image.save(os.path.join(app.config[\"UPLOAD_FOLDER\"], image_upload))\n",
        "                #calling the function to create the alpha matte\n",
        "                matte_name = image_ckpt(image_upload)\n",
        "\n",
        "                #calling the function to create the foreground image\n",
        "                #img_path = Image.open(os.path.join(upload_dir, image.filename))\n",
        "                #matte_path = Image.open(os.path.join(matte_dir, matte_name))\n",
        "\n",
        "                image_path = upload_dir + image.filename\n",
        "                print(f'Image Path: {image_path}')\n",
        "                print(f'Alpha Matte Path: {matte_name}')\n",
        "                print(f'Image FileName: {image.filename}')\n",
        "\n",
        "                edited_image = foreground_img(image_path, matte_name, image.filename)\n",
        "                print(f'Edited Image: {edited_image}')\n",
        "                foreground = Image.open(os.path.join(output_dir, edited_image))\n",
        "                end = time.time()\n",
        "                print(f\"Program runs for {end - start} seconds.\")\n",
        "                return render_template(\"upload_image.html\", filename=foreground)\n",
        "            else:\n",
        "                flash(\"Chosen file is not supported! Please upload an image file.\")\n",
        "                flash(\"Allowed image types are -> png, jpg, jpeg, gif\")\n",
        "                return redirect(request.url)\n",
        "\n",
        "        elif video:\n",
        "            print(\"Elif video file\")\n",
        "            end = time.time()\n",
        "            print(f\"Program runs for {end - start} seconds.\")\n",
        "            return render_template(\"home.html\")\n",
        "\n",
        "        else:\n",
        "            return render_template(\"start.html\")\n",
        "\n",
        "@app.route(\"/display/<filename>\")\n",
        "def display_image(filename):\n",
        "    \"\"\"\n",
        "    Function that displays the uploaded image.\n",
        "    \"\"\"\n",
        "    return redirect(url_for(\"static\", filename=\"uploads/\" + filename), code=301)\n",
        "\n",
        "@app.route(\"/edited/<filename>\")\n",
        "def edited_image(filename):\n",
        "    \"\"\"\n",
        "    Function that displayes the edited image/result image.\n",
        "    \"\"\"\n",
        "    return redirect(url_for(\"static\", filename=\"uploads/\" + filename), code=301)\n",
        "\n",
        "@app.route(\"/save_file/<filename>\")\n",
        "def save_file(filename):\n",
        "    \"\"\"\n",
        "    Function that that allows the user to save/download the image.\n",
        "    \"\"\"\n",
        "    path = f\"/content/drive/MyDrive/BeCode/Faktion/Flask/static/uploads/{filename}\"\n",
        "    print(f\"Send File Path: {path}\")\n",
        "    return send_file(path, as_attachment=True)\n",
        "\n",
        "@app.route(\"/upload_image\")\n",
        "def upload_image():\n",
        "    \"\"\"\n",
        "    Function that returns the upload_image page.\n",
        "    \"\"\"\n",
        "    return render_template(\"upload_image.html\")\n",
        "\n",
        "@app.route(\"/howtouse\")\n",
        "def howtouse():\n",
        "    \"\"\"\n",
        "    Function that returns the how to use page.\n",
        "    \"\"\"\n",
        "    return render_template(\"howtouse.html\")\n",
        "\n",
        "@app.route(\"/about\")\n",
        "def about():\n",
        "    \"\"\"\n",
        "    Function that returns the about page.\n",
        "    \"\"\"\n",
        "    return render_template(\"about.html\")\n",
        "\n",
        "@app.route(\"/live_feed\")\n",
        "def live_feed():\n",
        "    \"\"\"\n",
        "    Function that returns the live feed page.\n",
        "    \"\"\"\n",
        "    return render_template(\"live_feed.html\")\n",
        "\n",
        "if __name__ == \"__main__\":\n",
        "    app.run()"
      ],
      "execution_count": null,
      "outputs": []
    }
  ]
}