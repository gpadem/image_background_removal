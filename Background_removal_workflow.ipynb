{
 "cells": [
  {
   "cell_type": "code",
   "execution_count": null,
   "id": "21e7667a",
   "metadata": {},
   "outputs": [],
   "source": [
    "# Import libraries\n",
    "\n",
    "import torch\n",
    "import torch.nn\n",
    "\n",
    "from natsort import natsorted, ns"
   ]
  },
  {
   "cell_type": "code",
   "execution_count": null,
   "id": "73b853fd",
   "metadata": {},
   "outputs": [],
   "source": []
  },
  {
   "cell_type": "markdown",
   "id": "9f53a6c1",
   "metadata": {},
   "source": [
    "### Get binary mask with U2net"
   ]
  },
  {
   "cell_type": "code",
   "execution_count": null,
   "id": "4abe0d40",
   "metadata": {},
   "outputs": [],
   "source": []
  },
  {
   "cell_type": "markdown",
   "id": "cd68fefe",
   "metadata": {},
   "source": [
    "### Generate the trimap"
   ]
  },
  {
   "cell_type": "code",
   "execution_count": null,
   "id": "12ea40f7",
   "metadata": {},
   "outputs": [],
   "source": [
    "def generate_trimap(mask_path,eroision_iter=6,dilate_iter=8):\n",
    "    mask =  mask_path\n",
    "    mask = cv2.imread(mask,0)\n",
    "    mask[mask==1] = 255\n",
    "    d_kernel = np.ones((3,3))\n",
    "    erode  = cv2.erode(mask,d_kernel,iterations=eroision_iter)\n",
    "    dilate = cv2.dilate(mask,d_kernel,iterations=dilate_iter)\n",
    "    unknown1 = cv2.bitwise_xor(erode,mask)\n",
    "    unknown2 = cv2.bitwise_xor(dilate,mask)\n",
    "    unknowns = cv2.add(unknown1,unknown2)\n",
    "    unknowns[unknowns==255]=127\n",
    "    trimap = cv2.add(mask,unknowns)\n",
    "    cv2.imwrite(f\"/content/drive/MyDrive/trimap_mediocre/{mask_path.split('/')[-1]}\",trimap)"
   ]
  },
  {
   "cell_type": "markdown",
   "id": "a6592e68",
   "metadata": {},
   "source": [
    "### DIM eval"
   ]
  },
  {
   "cell_type": "code",
   "execution_count": 2,
   "id": "17fe541f",
   "metadata": {},
   "outputs": [],
   "source": [
    "import os\n",
    "\n",
    "import cv2 as cv\n",
    "import numpy as np\n",
    "import torch\n",
    "from torchvision import transforms\n",
    "from tqdm import tqdm\n",
    "\n",
    "from config import device\n",
    "from data_gen import data_transforms\n",
    "from utils import ensure_folder\n",
    "\n",
    "IMG_FOLDER = 'data/alphamatting/input_lowres'\n",
    "TRIMAP_FOLDERS = ['data/alphamatting/trimap_lowres/Trimap1', 'data/alphamatting/trimap_lowres/Trimap2',\n",
    "                  'data/alphamatting/trimap_lowres/Trimap3']\n",
    "OUTPUT_FOLDERS = ['images/alphamatting/output_lowres/Trimap1', 'images/alphamatting/output_lowres/Trimap2', 'images/alphamatting/output_lowres/Trimap3', ]\n",
    "\n",
    "if __name__ == '__main__':\n",
    "    checkpoint = 'BEST_checkpoint.tar'\n",
    "    checkpoint = torch.load(checkpoint)\n",
    "    model = checkpoint['model'].module\n",
    "    model = model.to(device)\n",
    "    model.eval()\n",
    "\n",
    "    transformer = data_transforms['valid']\n",
    "\n",
    "    ensure_folder('images')\n",
    "    ensure_folder('images/alphamatting')\n",
    "    ensure_folder(OUTPUT_FOLDERS[0])\n",
    "    ensure_folder(OUTPUT_FOLDERS[1])\n",
    "    ensure_folder(OUTPUT_FOLDERS[2])\n",
    "\n",
    "    files = [f for f in os.listdir(IMG_FOLDER) if f.endswith('.png')]\n",
    "\n",
    "    for file in tqdm(files):\n",
    "        filename = os.path.join(IMG_FOLDER, file)\n",
    "        img = cv.imread(filename)\n",
    "        print(img.shape)\n",
    "        h, w = img.shape[:2]\n",
    "\n",
    "        x = torch.zeros((1, 4, h, w), dtype=torch.float)\n",
    "        image = img[..., ::-1]  # RGB\n",
    "        image = transforms.ToPILImage()(image)\n",
    "        image = transformer(image)\n",
    "        x[0:, 0:3, :, :] = image\n",
    "\n",
    "        for i in range(3):\n",
    "            filename = os.path.join(TRIMAP_FOLDERS[i], file)\n",
    "            print('reading {}...'.format(filename))\n",
    "            trimap = cv.imread(filename, 0)\n",
    "            x[0:, 3, :, :] = torch.from_numpy(trimap.copy() / 255.)\n",
    "            # print(torch.max(x[0:, 3, :, :]))\n",
    "            # print(torch.min(x[0:, 3, :, :]))\n",
    "            # print(torch.median(x[0:, 3, :, :]))\n",
    "\n",
    "            # Move to GPU, if available\n",
    "            x = x.type(torch.FloatTensor).to(device)\n",
    "\n",
    "            with torch.no_grad():\n",
    "                pred = model(x)\n",
    "\n",
    "            pred = pred.cpu().numpy()\n",
    "            pred = pred.reshape((h, w))\n",
    "\n",
    "            pred[trimap == 0] = 0.0\n",
    "            pred[trimap == 255] = 1.0\n",
    "\n",
    "            out = (pred.copy() * 255).astype(np.uint8)\n",
    "\n",
    "            filename = os.path.join(OUTPUT_FOLDERS[i], file)\n",
    "            cv.imwrite(filename, out)\n",
    "            print('wrote {}.'.format(filename))"
   ]
  },
  {
   "cell_type": "code",
   "execution_count": null,
   "id": "90d30241",
   "metadata": {},
   "outputs": [],
   "source": []
  }
 ],
 "metadata": {
  "kernelspec": {
   "display_name": "Python 3",
   "language": "python",
   "name": "python3"
  },
  "language_info": {
   "codemirror_mode": {
    "name": "ipython",
    "version": 3
   },
   "file_extension": ".py",
   "mimetype": "text/x-python",
   "name": "python",
   "nbconvert_exporter": "python",
   "pygments_lexer": "ipython3",
   "version": "3.8.5"
  }
 },
 "nbformat": 4,
 "nbformat_minor": 5
}
