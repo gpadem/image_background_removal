{
  "nbformat": 4,
  "nbformat_minor": 0,
  "metadata": {
    "colab": {
      "name": "bg_removal_workflow.ipynb",
      "provenance": [],
      "collapsed_sections": [],
      "include_colab_link": true
    },
    "kernelspec": {
      "name": "python3",
      "display_name": "Python 3"
    },
    "language_info": {
      "name": "python"
    },
    "accelerator": "GPU"
  },
  "cells": [
    {
      "cell_type": "markdown",
      "metadata": {
        "id": "view-in-github",
        "colab_type": "text"
      },
      "source": [
        "<a href=\"https://colab.research.google.com/github/simonsny/image_background_removal/blob/dev_simon/bg_removal_workflow.ipynb\" target=\"_parent\"><img src=\"https://colab.research.google.com/assets/colab-badge.svg\" alt=\"Open In Colab\"/></a>"
      ]
    },
    {
      "cell_type": "markdown",
      "metadata": {
        "id": "a1AKwq8d_ixT"
      },
      "source": [
        "Connecting to the Google Drive"
      ]
    },
    {
      "cell_type": "code",
      "metadata": {
        "colab": {
          "base_uri": "https://localhost:8080/"
        },
        "id": "KlnV65aiyEFq",
        "outputId": "d8ba5a82-2613-4fa6-81c9-ff2ffac42dbb"
      },
      "source": [
        "from google.colab import drive\n",
        "drive.mount('/content/drive')"
      ],
      "execution_count": null,
      "outputs": [
        {
          "output_type": "stream",
          "text": [
            "Mounted at /content/drive\n"
          ],
          "name": "stdout"
        }
      ]
    },
    {
      "cell_type": "markdown",
      "metadata": {
        "id": "0wxSkGrS6DlE"
      },
      "source": [
        "Importing the necessary libraries"
      ]
    },
    {
      "cell_type": "code",
      "metadata": {
        "id": "9snXu7pJv2BQ"
      },
      "source": [
        "import torch\n",
        "import torch.nn\n",
        "\n",
        "from natsort import natsorted, ns"
      ],
      "execution_count": null,
      "outputs": []
    },
    {
      "cell_type": "markdown",
      "metadata": {
        "id": "o0IgAjIKv9AH"
      },
      "source": [
        "Get the Binary Mask with U2Net"
      ]
    },
    {
      "cell_type": "code",
      "metadata": {
        "id": "myooQFtOv9e7"
      },
      "source": [
        "import os\n",
        "\n",
        "# clone the repository\n",
        "%cd /content/drive/MyDrive/BeCode/Faktion/\n",
        "if not os.path.exists('U-2-Net'):\n",
        "  !git clone https://github.com/NathanUA/U-2-Net.git\n",
        "%cd U-2-Net\n",
        "#!python u2net_test.py"
      ],
      "execution_count": null,
      "outputs": []
    },
    {
      "cell_type": "markdown",
      "metadata": {
        "id": "28NBZvclv_Rg"
      },
      "source": [
        "Generate the Trimap from the Binary Mask"
      ]
    },
    {
      "cell_type": "code",
      "metadata": {
        "id": "qRR1qFMVxCAK"
      },
      "source": [
        "import numpy as np\n",
        "import cv2"
      ],
      "execution_count": null,
      "outputs": []
    },
    {
      "cell_type": "code",
      "metadata": {
        "id": "8DxAfFaRwBqT"
      },
      "source": [
        "def generate_trimap(mask_path,eroision_iter=6,dilate_iter=8):\n",
        "    mask =  mask_path\n",
        "    mask = cv2.imread(mask,0)\n",
        "    mask[mask==1] = 255\n",
        "    d_kernel = np.ones((3,3))\n",
        "    erode  = cv2.erode(mask,d_kernel,iterations=eroision_iter)\n",
        "    dilate = cv2.dilate(mask,d_kernel,iterations=dilate_iter)\n",
        "    unknown1 = cv2.bitwise_xor(erode,mask)\n",
        "    unknown2 = cv2.bitwise_xor(dilate,mask)\n",
        "    unknowns = cv2.add(unknown1,unknown2)\n",
        "    unknowns[unknowns==255]=127\n",
        "    trimap = cv2.add(mask,unknowns)\n",
        "    cv2.imwrite(f\"/content/drive/MyDrive/trimap_mediocre/{mask_path.split('/')[-1]}\",trimap)"
      ],
      "execution_count": null,
      "outputs": []
    },
    {
      "cell_type": "markdown",
      "metadata": {
        "id": "4oDhBB3swFoc"
      },
      "source": [
        "Training the dataset with supervised_train_iter function from MODNet"
      ]
    },
    {
      "cell_type": "code",
      "metadata": {
        "id": "KCgJZxC_wBsf"
      },
      "source": [
        "# Create the dataloader function\n",
        "\n",
        "\n",
        "def dataloader(file_location='/content/drive/MyDrive/BeCode/Faktion/Datasets/DUTS-TR/'):\n",
        "    path = file_location\n",
        "    image_path = os.listdir(path + 'DUTS-TR-Image')\n",
        "    gt_path = os.listdir(path + 'DUTS-TR-Ground-Truth')\n",
        "    trimap_path = os.listdir(path + 'DUTS-TR-Trimap')\n",
        "    \n",
        "    # sort in an order\n",
        "    \n",
        "    \"\"\"  image_path = natsorted(image_path, alg=ns.IGNORECASE)\n",
        "    gt_path = natsorted(gt_path, alg=ns.IGNORECASE)\n",
        "    trimap = natsorted(trimap, alg=ns.IGNORECASE)\"\"\"\n",
        "\n",
        "    return zip(image_path, trimap_path, gt_path)"
      ],
      "execution_count": null,
      "outputs": []
    },
    {
      "cell_type": "code",
      "metadata": {
        "id": "10OtIgJnwIzD",
        "colab": {
          "base_uri": "https://localhost:8080/",
          "height": 454
        },
        "outputId": "1afd6e0a-4680-49f3-92aa-e53c0766bfc5"
      },
      "source": [
        "# Initialize training\n",
        "%cd /content/drive/MyDrive/BeCode/Faktion/MODNet\n",
        "from src.models.modnet import MODNet\n",
        "from src.trainer import supervised_training_iter\n",
        "bs = 16         # batch size\n",
        "lr = 0.01       # learn rate\n",
        "epochs = 40     # total epochs\n",
        "\n",
        "modnet = torch.nn.DataParallel(MODNet()).cuda()\n",
        "optimizer = torch.optim.SGD(modnet.parameters(), lr=lr, momentum=0.9)\n",
        "lr_scheduler = torch.optim.lr_scheduler.StepLR(optimizer, step_size=int(0.25 * epochs), gamma=0.1)"
      ],
      "execution_count": null,
      "outputs": [
        {
          "output_type": "stream",
          "text": [
            "/content/drive/MyDrive/BeCode/Faktion/MODNet\n",
            "cannot find the pretrained mobilenetv2 backbone\n"
          ],
          "name": "stdout"
        },
        {
          "output_type": "error",
          "ename": "NameError",
          "evalue": "ignored",
          "traceback": [
            "\u001b[0;31m---------------------------------------------------------------------------\u001b[0m",
            "\u001b[0;31mNameError\u001b[0m                                 Traceback (most recent call last)",
            "\u001b[0;32m<ipython-input-10-0fa4bfb7f65e>\u001b[0m in \u001b[0;36m<module>\u001b[0;34m()\u001b[0m\n\u001b[1;32m      7\u001b[0m \u001b[0mepochs\u001b[0m \u001b[0;34m=\u001b[0m \u001b[0;36m40\u001b[0m     \u001b[0;31m# total epochs\u001b[0m\u001b[0;34m\u001b[0m\u001b[0;34m\u001b[0m\u001b[0m\n\u001b[1;32m      8\u001b[0m \u001b[0;34m\u001b[0m\u001b[0m\n\u001b[0;32m----> 9\u001b[0;31m \u001b[0mmodnet\u001b[0m \u001b[0;34m=\u001b[0m \u001b[0mtorch\u001b[0m\u001b[0;34m.\u001b[0m\u001b[0mnn\u001b[0m\u001b[0;34m.\u001b[0m\u001b[0mDataParallel\u001b[0m\u001b[0;34m(\u001b[0m\u001b[0mMODNet\u001b[0m\u001b[0;34m(\u001b[0m\u001b[0;34m)\u001b[0m\u001b[0;34m)\u001b[0m\u001b[0;34m.\u001b[0m\u001b[0mcuda\u001b[0m\u001b[0;34m(\u001b[0m\u001b[0;34m)\u001b[0m\u001b[0;34m\u001b[0m\u001b[0;34m\u001b[0m\u001b[0m\n\u001b[0m\u001b[1;32m     10\u001b[0m \u001b[0moptimizer\u001b[0m \u001b[0;34m=\u001b[0m \u001b[0mtorch\u001b[0m\u001b[0;34m.\u001b[0m\u001b[0moptim\u001b[0m\u001b[0;34m.\u001b[0m\u001b[0mSGD\u001b[0m\u001b[0;34m(\u001b[0m\u001b[0mmodnet\u001b[0m\u001b[0;34m.\u001b[0m\u001b[0mparameters\u001b[0m\u001b[0;34m(\u001b[0m\u001b[0;34m)\u001b[0m\u001b[0;34m,\u001b[0m \u001b[0mlr\u001b[0m\u001b[0;34m=\u001b[0m\u001b[0mlr\u001b[0m\u001b[0;34m,\u001b[0m \u001b[0mmomentum\u001b[0m\u001b[0;34m=\u001b[0m\u001b[0;36m0.9\u001b[0m\u001b[0;34m)\u001b[0m\u001b[0;34m\u001b[0m\u001b[0;34m\u001b[0m\u001b[0m\n\u001b[1;32m     11\u001b[0m \u001b[0mlr_scheduler\u001b[0m \u001b[0;34m=\u001b[0m \u001b[0mtorch\u001b[0m\u001b[0;34m.\u001b[0m\u001b[0moptim\u001b[0m\u001b[0;34m.\u001b[0m\u001b[0mlr_scheduler\u001b[0m\u001b[0;34m.\u001b[0m\u001b[0mStepLR\u001b[0m\u001b[0;34m(\u001b[0m\u001b[0moptimizer\u001b[0m\u001b[0;34m,\u001b[0m \u001b[0mstep_size\u001b[0m\u001b[0;34m=\u001b[0m\u001b[0mint\u001b[0m\u001b[0;34m(\u001b[0m\u001b[0;36m0.25\u001b[0m \u001b[0;34m*\u001b[0m \u001b[0mepochs\u001b[0m\u001b[0;34m)\u001b[0m\u001b[0;34m,\u001b[0m \u001b[0mgamma\u001b[0m\u001b[0;34m=\u001b[0m\u001b[0;36m0.1\u001b[0m\u001b[0;34m)\u001b[0m\u001b[0;34m\u001b[0m\u001b[0;34m\u001b[0m\u001b[0m\n",
            "\u001b[0;32m/content/drive/MyDrive/BeCode/Faktion/MODNet/src/models/modnet.py\u001b[0m in \u001b[0;36m__init__\u001b[0;34m(self, in_channels, hr_channels, backbone_arch, backbone_pretrained)\u001b[0m\n\u001b[1;32m    227\u001b[0m \u001b[0;34m\u001b[0m\u001b[0m\n\u001b[1;32m    228\u001b[0m         \u001b[0;32mif\u001b[0m \u001b[0mself\u001b[0m\u001b[0;34m.\u001b[0m\u001b[0mbackbone_pretrained\u001b[0m\u001b[0;34m:\u001b[0m\u001b[0;34m\u001b[0m\u001b[0;34m\u001b[0m\u001b[0m\n\u001b[0;32m--> 229\u001b[0;31m             \u001b[0mself\u001b[0m\u001b[0;34m.\u001b[0m\u001b[0mbackbone\u001b[0m\u001b[0;34m.\u001b[0m\u001b[0mload_pretrained_ckpt\u001b[0m\u001b[0;34m(\u001b[0m\u001b[0;34m)\u001b[0m\u001b[0;34m\u001b[0m\u001b[0;34m\u001b[0m\u001b[0m\n\u001b[0m\u001b[1;32m    230\u001b[0m \u001b[0;34m\u001b[0m\u001b[0m\n\u001b[1;32m    231\u001b[0m     \u001b[0;32mdef\u001b[0m \u001b[0mforward\u001b[0m\u001b[0;34m(\u001b[0m\u001b[0mself\u001b[0m\u001b[0;34m,\u001b[0m \u001b[0mimg\u001b[0m\u001b[0;34m,\u001b[0m \u001b[0minference\u001b[0m\u001b[0;34m)\u001b[0m\u001b[0;34m:\u001b[0m\u001b[0;34m\u001b[0m\u001b[0;34m\u001b[0m\u001b[0m\n",
            "\u001b[0;32m/content/drive/MyDrive/BeCode/Faktion/MODNet/src/models/backbones/wrapper.py\u001b[0m in \u001b[0;36mload_pretrained_ckpt\u001b[0;34m(self)\u001b[0m\n\u001b[1;32m     77\u001b[0m         \u001b[0;32mif\u001b[0m \u001b[0;32mnot\u001b[0m \u001b[0mos\u001b[0m\u001b[0;34m.\u001b[0m\u001b[0mpath\u001b[0m\u001b[0;34m.\u001b[0m\u001b[0mexists\u001b[0m\u001b[0;34m(\u001b[0m\u001b[0mckpt_path\u001b[0m\u001b[0;34m)\u001b[0m\u001b[0;34m:\u001b[0m\u001b[0;34m\u001b[0m\u001b[0;34m\u001b[0m\u001b[0m\n\u001b[1;32m     78\u001b[0m             \u001b[0mprint\u001b[0m\u001b[0;34m(\u001b[0m\u001b[0;34m'cannot find the pretrained mobilenetv2 backbone'\u001b[0m\u001b[0;34m)\u001b[0m\u001b[0;34m\u001b[0m\u001b[0;34m\u001b[0m\u001b[0m\n\u001b[0;32m---> 79\u001b[0;31m             \u001b[0mexit\u001b[0m\u001b[0;34m(\u001b[0m\u001b[0;34m)\u001b[0m\u001b[0;34m\u001b[0m\u001b[0;34m\u001b[0m\u001b[0m\n\u001b[0m\u001b[1;32m     80\u001b[0m \u001b[0;34m\u001b[0m\u001b[0m\n\u001b[1;32m     81\u001b[0m         \u001b[0mckpt\u001b[0m \u001b[0;34m=\u001b[0m \u001b[0mtorch\u001b[0m\u001b[0;34m.\u001b[0m\u001b[0mload\u001b[0m\u001b[0;34m(\u001b[0m\u001b[0mckpt_path\u001b[0m\u001b[0;34m)\u001b[0m\u001b[0;34m\u001b[0m\u001b[0;34m\u001b[0m\u001b[0m\n",
            "\u001b[0;31mNameError\u001b[0m: name 'exit' is not defined"
          ]
        }
      ]
    },
    {
      "cell_type": "code",
      "metadata": {
        "id": "blrJFS4zwI1D"
      },
      "source": [
        "def supervised_training_iter(\n",
        "    modnet, optimizer, image, trimap, gt_matte,\n",
        "    semantic_scale=10.0, detail_scale=10.0, matte_scale=1.0):\n",
        "    \"\"\" Supervised training iteration of MODNet\n",
        "    This function trains MODNet for one iteration in a labeled dataset.\n",
        "    Arguments:\n",
        "        modnet (torch.nn.Module): instance of MODNet\n",
        "        optimizer (torch.optim.Optimizer): optimizer for supervised training \n",
        "        image (torch.autograd.Variable): input RGB image\n",
        "                                         its pixel values should be normalized\n",
        "        trimap (torch.autograd.Variable): trimap used to calculate the losses\n",
        "                                          its pixel values can be 0, 0.5, or 1\n",
        "                                          (foreground=1, background=0, unknown=0.5)\n",
        "        gt_matte (torch.autograd.Variable): ground truth alpha matte\n",
        "                                            its pixel values are between [0, 1]\n",
        "        semantic_scale (float): scale of the semantic loss\n",
        "                                NOTE: please adjust according to your dataset\n",
        "        detail_scale (float): scale of the detail loss\n",
        "                              NOTE: please adjust according to your dataset\n",
        "        matte_scale (float): scale of the matte loss\n",
        "                             NOTE: please adjust according to your dataset\n",
        "    \n",
        "    Returns:\n",
        "        semantic_loss (torch.Tensor): loss of the semantic estimation [Low-Resolution (LR) Branch]\n",
        "        detail_loss (torch.Tensor): loss of the detail prediction [High-Resolution (HR) Branch]\n",
        "        matte_loss (torch.Tensor): loss of the semantic-detail fusion [Fusion Branch]\n",
        "    \"\"\"\n",
        "\n",
        "    global blurer\n",
        "\n",
        "    # set the model to train mode and clear the optimizer\n",
        "    modnet.train()\n",
        "    optimizer.zero_grad()\n",
        "\n",
        "    # forward the model\n",
        "    pred_semantic, pred_detail, pred_matte = modnet(image, False)\n",
        "\n",
        "    # calculate the boundary mask from the trimap\n",
        "    boundaries = (trimap < 0.5) + (trimap > 0.5)\n",
        "\n",
        "    # calculate the semantic loss\n",
        "    gt_semantic = F.interpolate(gt_matte, scale_factor=1/16, mode='bilinear')\n",
        "    gt_semantic = blurer(gt_semantic)\n",
        "    semantic_loss = torch.mean(F.mse_loss(pred_semantic, gt_semantic))\n",
        "    semantic_loss = semantic_scale * semantic_loss\n",
        "\n",
        "    # calculate the detail loss\n",
        "    pred_boundary_detail = torch.where(boundaries, trimap, pred_detail)\n",
        "    gt_detail = torch.where(boundaries, trimap, gt_matte)\n",
        "    detail_loss = torch.mean(F.l1_loss(pred_boundary_detail, gt_detail))\n",
        "    detail_loss = detail_scale * detail_loss\n",
        "\n",
        "    # calculate the matte loss\n",
        "    pred_boundary_matte = torch.where(boundaries, trimap, pred_matte)\n",
        "    matte_l1_loss = F.l1_loss(pred_matte, gt_matte) + 4.0 * F.l1_loss(pred_boundary_matte, gt_matte)\n",
        "    matte_compositional_loss = F.l1_loss(image * pred_matte, image * gt_matte) \\\n",
        "        + 4.0 * F.l1_loss(image * pred_boundary_matte, image * gt_matte)\n",
        "    matte_loss = torch.mean(matte_l1_loss + matte_compositional_loss)\n",
        "    matte_loss = matte_scale * matte_loss\n",
        "\n",
        "    # calculate the final loss, backward the loss, and update the model \n",
        "    loss = semantic_loss + detail_loss + matte_loss\n",
        "    loss.backward()\n",
        "    optimizer.step()\n",
        "\n",
        "    # for test\n",
        "    return semantic_loss, detail_loss, matte_loss\n"
      ],
      "execution_count": null,
      "outputs": []
    },
    {
      "cell_type": "code",
      "metadata": {
        "id": "He7P_MevwO29",
        "colab": {
          "base_uri": "https://localhost:8080/",
          "height": 290
        },
        "outputId": "cb8ad6cc-a50d-4338-dcd8-48ee5078a584"
      },
      "source": [
        "# Training\n",
        "import os\n",
        "\n",
        "file_location='/content/drive/MyDrive/BeCode/Faktion/'\n",
        "\n",
        "for epoch in range(0, epochs):\n",
        "    for idx, (image_path, trimap_path, gt_matte_path) in enumerate(dataloader()):\n",
        "        image_path = os.path.join(file_location, \"images\", image_path)\n",
        "        trimap_path = os.path.join(file_location, \"trimaps\", trimap_path)\n",
        "        gt_matte_path = os.path.join(file_location, \"ground_truths\", gt_matte_path)\n",
        "\n",
        "        print(image_path)\n",
        "        print(trimap_path)\n",
        "        print(gt_matte_path)\n",
        "        image = cv2.imread(image_path)\n",
        "        trimap = cv2.imread(trimap_path)\n",
        "        gt_matte = cv2.imread(gt_matte_path)\n",
        "\n",
        "        semantic_loss, detail_loss, matte_loss = \\\n",
        "        supervised_training_iter(modnet, optimizer, image, trimap, gt_matte)\n",
        "        lr_scheduler.step()"
      ],
      "execution_count": null,
      "outputs": [
        {
          "output_type": "stream",
          "text": [
            "/content/drive/MyDrive/BeCode/Faktion/images/n07930864_7479.jpg\n",
            "/content/drive/MyDrive/BeCode/Faktion/trimaps/n03188531_12720.png\n",
            "/content/drive/MyDrive/BeCode/Faktion/ground_truths/n04285008_9860.png\n"
          ],
          "name": "stdout"
        },
        {
          "output_type": "error",
          "ename": "NameError",
          "evalue": "ignored",
          "traceback": [
            "\u001b[0;31m---------------------------------------------------------------------------\u001b[0m",
            "\u001b[0;31mNameError\u001b[0m                                 Traceback (most recent call last)",
            "\u001b[0;32m<ipython-input-12-c047fe834b6a>\u001b[0m in \u001b[0;36m<module>\u001b[0;34m()\u001b[0m\n\u001b[1;32m     13\u001b[0m         \u001b[0mprint\u001b[0m\u001b[0;34m(\u001b[0m\u001b[0mtrimap_path\u001b[0m\u001b[0;34m)\u001b[0m\u001b[0;34m\u001b[0m\u001b[0;34m\u001b[0m\u001b[0m\n\u001b[1;32m     14\u001b[0m         \u001b[0mprint\u001b[0m\u001b[0;34m(\u001b[0m\u001b[0mgt_matte_path\u001b[0m\u001b[0;34m)\u001b[0m\u001b[0;34m\u001b[0m\u001b[0;34m\u001b[0m\u001b[0m\n\u001b[0;32m---> 15\u001b[0;31m         \u001b[0mimage\u001b[0m \u001b[0;34m=\u001b[0m \u001b[0mcv2\u001b[0m\u001b[0;34m.\u001b[0m\u001b[0mimread\u001b[0m\u001b[0;34m(\u001b[0m\u001b[0mimage_path\u001b[0m\u001b[0;34m)\u001b[0m\u001b[0;34m\u001b[0m\u001b[0;34m\u001b[0m\u001b[0m\n\u001b[0m\u001b[1;32m     16\u001b[0m         \u001b[0mtrimap\u001b[0m \u001b[0;34m=\u001b[0m \u001b[0mcv2\u001b[0m\u001b[0;34m.\u001b[0m\u001b[0mimread\u001b[0m\u001b[0;34m(\u001b[0m\u001b[0mtrimap_path\u001b[0m\u001b[0;34m)\u001b[0m\u001b[0;34m\u001b[0m\u001b[0;34m\u001b[0m\u001b[0m\n\u001b[1;32m     17\u001b[0m         \u001b[0mgt_matte\u001b[0m \u001b[0;34m=\u001b[0m \u001b[0mcv2\u001b[0m\u001b[0;34m.\u001b[0m\u001b[0mimread\u001b[0m\u001b[0;34m(\u001b[0m\u001b[0mgt_matte_path\u001b[0m\u001b[0;34m)\u001b[0m\u001b[0;34m\u001b[0m\u001b[0;34m\u001b[0m\u001b[0m\n",
            "\u001b[0;31mNameError\u001b[0m: name 'cv2' is not defined"
          ]
        }
      ]
    },
    {
      "cell_type": "code",
      "metadata": {
        "id": "V8u1T9AuwO7X"
      },
      "source": [
        ""
      ],
      "execution_count": null,
      "outputs": []
    }
  ]
}