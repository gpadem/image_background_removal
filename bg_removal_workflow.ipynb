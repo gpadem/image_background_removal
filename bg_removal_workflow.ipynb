{
  "nbformat": 4,
  "nbformat_minor": 0,
  "metadata": {
    "colab": {
      "name": "bg_removal_workflow.ipynb",
      "provenance": [],
      "collapsed_sections": [],
      "include_colab_link": true
    },
    "kernelspec": {
      "name": "python3",
      "display_name": "Python 3"
    },
    "language_info": {
      "name": "python"
    },
    "accelerator": "GPU"
  },
  "cells": [
    {
      "cell_type": "markdown",
      "metadata": {
        "id": "view-in-github",
        "colab_type": "text"
      },
      "source": [
        "<a href=\"https://colab.research.google.com/github/simonsny/image_background_removal/blob/main/bg_removal_workflow.ipynb\" target=\"_parent\"><img src=\"https://colab.research.google.com/assets/colab-badge.svg\" alt=\"Open In Colab\"/></a>"
      ]
    },
    {
      "cell_type": "markdown",
      "metadata": {
        "id": "a1AKwq8d_ixT"
      },
      "source": [
        "Connecting to the Google Drive"
      ]
    },
    {
      "cell_type": "code",
      "metadata": {
        "colab": {
          "base_uri": "https://localhost:8080/"
        },
        "id": "KlnV65aiyEFq",
        "outputId": "01af76b7-267a-483c-d419-004c708e22b3"
      },
      "source": [
        "from google.colab import drive\n",
        "drive.mount('/content/drive')"
      ],
      "execution_count": null,
      "outputs": [
        {
          "output_type": "stream",
          "text": [
            "Mounted at /content/drive\n"
          ],
          "name": "stdout"
        }
      ]
    },
    {
      "cell_type": "code",
      "metadata": {
        "id": "7Mw2r9-yljYh"
      },
      "source": [
        "import os\n",
        "\n",
        "import cv2 as cv\n",
        "import numpy as np\n",
        "import torch\n",
        "import torch.nn\n",
        "from torchvision import transforms\n",
        "from tqdm import tqdm"
      ],
      "execution_count": null,
      "outputs": []
    },
    {
      "cell_type": "markdown",
      "metadata": {
        "id": "o0IgAjIKv9AH"
      },
      "source": [
        "Get the Binary Mask with U2Net"
      ]
    },
    {
      "cell_type": "code",
      "metadata": {
        "id": "myooQFtOv9e7",
        "colab": {
          "base_uri": "https://localhost:8080/"
        },
        "outputId": "63926e78-5e09-4b11-87b6-aaed50068084"
      },
      "source": [
        "# clone the repository\n",
        "%cd /content/drive/MyDrive/BeCode/Faktion/\n",
        "if not os.path.exists('U-2-Net'):\n",
        "  !git clone https://github.com/NathanUA/U-2-Net.git\n",
        "%cd U-2-Net\n",
        "#!python u2net_test.py"
      ],
      "execution_count": null,
      "outputs": [
        {
          "output_type": "stream",
          "text": [
            "[Errno 2] No such file or directory: '/content/drive/MyDrive/BeCode/Faktion/'\n",
            "/content\n",
            "Cloning into 'U-2-Net'...\n",
            "remote: Enumerating objects: 800, done.\u001b[K\n",
            "remote: Counting objects: 100% (196/196), done.\u001b[K\n",
            "remote: Compressing objects: 100% (99/99), done.\u001b[K\n",
            "remote: Total 800 (delta 114), reused 158 (delta 95), pack-reused 604\u001b[K\n",
            "Receiving objects: 100% (800/800), 30.71 MiB | 16.95 MiB/s, done.\n",
            "Resolving deltas: 100% (360/360), done.\n",
            "/content/U-2-Net\n"
          ],
          "name": "stdout"
        }
      ]
    },
    {
      "cell_type": "markdown",
      "metadata": {
        "id": "3eAfzQfSP5BF"
      },
      "source": [
        "Getting the inference from U2Net to get the mask."
      ]
    },
    {
      "cell_type": "code",
      "metadata": {
        "id": "_XnEtufRNp4i"
      },
      "source": [
        "import os\n",
        "from skimage import io, transform\n",
        "import torch\n",
        "import torchvision\n",
        "from torch.autograd import Variable\n",
        "import torch.nn as nn\n",
        "import torch.nn.functional as F\n",
        "from torch.utils.data import Dataset, DataLoader\n",
        "from torchvision import transforms#, utils\n",
        "# import torch.optim as optim\n",
        "\n",
        "import numpy as np\n",
        "from PIL import Image\n",
        "import glob\n",
        "\n",
        "from data_loader import RescaleT\n",
        "from data_loader import ToTensor\n",
        "from data_loader import ToTensorLab\n",
        "from data_loader import SalObjDataset\n",
        "\n",
        "from model import U2NET # full size version 173.6 MB\n",
        "from model import U2NETP # small version u2net 4.7 MB\n",
        "\n",
        "# normalize the predicted SOD probability map\n",
        "def normPRED(d):\n",
        "    ma = torch.max(d)\n",
        "    mi = torch.min(d)\n",
        "\n",
        "    dn = (d-mi)/(ma-mi)\n",
        "\n",
        "    return dn\n",
        "\n",
        "def save_output(image_name,pred,d_dir):\n",
        "\n",
        "    predict = pred\n",
        "    predict = predict.squeeze()\n",
        "    predict_np = predict.cpu().data.numpy()\n",
        "\n",
        "    im = Image.fromarray(predict_np*255).convert('RGB')\n",
        "    img_name = image_name.split(os.sep)[-1]\n",
        "    image = io.imread(image_name)\n",
        "    imo = im.resize((image.shape[1],image.shape[0]),resample=Image.BILINEAR)\n",
        "\n",
        "    pb_np = np.array(imo)\n",
        "\n",
        "    aaa = img_name.split(\".\")\n",
        "    bbb = aaa[0:-1]\n",
        "    imidx = bbb[0]\n",
        "    for i in range(1,len(bbb)):\n",
        "        imidx = imidx + \".\" + bbb[i]\n",
        "\n",
        "    imo.save(d_dir+imidx+'.png')\n",
        "\n",
        "def main():\n",
        "\n",
        "    # --------- 1. get image path and name ---------\n",
        "    model_name='u2net'#u2netp\n",
        "\n",
        "\n",
        "\n",
        "    image_dir = os.path.join(os.getcwd(), 'test_data', 'test_images')\n",
        "    prediction_dir = os.path.join(os.getcwd(), 'test_data', model_name + '_results' + os.sep)\n",
        "    model_dir = os.path.join(os.getcwd(), 'saved_models', model_name, model_name + '.pth')\n",
        "\n",
        "    img_name_list = glob.glob(image_dir + os.sep + '*')\n",
        "    print(img_name_list)\n",
        "\n",
        "    # --------- 2. dataloader ---------\n",
        "    #1. dataloader\n",
        "    test_salobj_dataset = SalObjDataset(img_name_list = img_name_list,\n",
        "                                        lbl_name_list = [],\n",
        "                                        transform=transforms.Compose([RescaleT(320),\n",
        "                                                                      ToTensorLab(flag=0)])\n",
        "                                        )\n",
        "    test_salobj_dataloader = DataLoader(test_salobj_dataset,\n",
        "                                        batch_size=1,\n",
        "                                        shuffle=False,\n",
        "                                        num_workers=1)\n",
        "\n",
        "    # --------- 3. model define ---------\n",
        "    if(model_name=='u2net'):\n",
        "        print(\"...load U2NET---173.6 MB\")\n",
        "        net = U2NET(3,1)\n",
        "    elif(model_name=='u2netp'):\n",
        "        print(\"...load U2NEP---4.7 MB\")\n",
        "        net = U2NETP(3,1)\n",
        "\n",
        "    if torch.cuda.is_available():\n",
        "        net.load_state_dict(torch.load(model_dir))\n",
        "        net.cuda()\n",
        "    else:\n",
        "        net.load_state_dict(torch.load(model_dir, map_location='cpu'))\n",
        "    net.eval()\n",
        "\n",
        "    # --------- 4. inference for each image ---------\n",
        "    for i_test, data_test in enumerate(test_salobj_dataloader):\n",
        "\n",
        "        print(\"inferencing:\",img_name_list[i_test].split(os.sep)[-1])\n",
        "\n",
        "        inputs_test = data_test['image']\n",
        "        inputs_test = inputs_test.type(torch.FloatTensor)\n",
        "\n",
        "        if torch.cuda.is_available():\n",
        "            inputs_test = Variable(inputs_test.cuda())\n",
        "        else:\n",
        "            inputs_test = Variable(inputs_test)\n",
        "\n",
        "        d1,d2,d3,d4,d5,d6,d7= net(inputs_test)\n",
        "\n",
        "        # normalization\n",
        "        pred = d1[:,0,:,:]\n",
        "        pred = normPRED(pred)\n",
        "\n",
        "        # save results to test_results folder\n",
        "        if not os.path.exists(prediction_dir):\n",
        "            os.makedirs(prediction_dir, exist_ok=True)\n",
        "        save_output(img_name_list[i_test],pred,prediction_dir)\n",
        "\n",
        "        del d1,d2,d3,d4,d5,d6,d7\n",
        "\n",
        "if __name__ == \"__main__\":\n",
        "    main()"
      ],
      "execution_count": null,
      "outputs": []
    },
    {
      "cell_type": "code",
      "metadata": {
        "id": "GA04hDLtGGqf"
      },
      "source": [
        ""
      ],
      "execution_count": null,
      "outputs": []
    },
    {
      "cell_type": "markdown",
      "metadata": {
        "id": "28NBZvclv_Rg"
      },
      "source": [
        "Generate the Trimap from the Binary Mask"
      ]
    },
    {
      "cell_type": "code",
      "metadata": {
        "id": "8DxAfFaRwBqT"
      },
      "source": [
        "def generate_trimap(mask_path, open_size=10, mask_margin=10):\n",
        "    mask = cv2.imread(mask_path, 0)\n",
        "\n",
        "    # make sure if the alpha_matte array has 2 dimensions \n",
        "    assert mask.ndim == 2\n",
        "\n",
        "    # compute each region\n",
        "    ## get foreground region\n",
        "    foreground = ((255 - mask_margin) < mask)\n",
        "\n",
        "    ## get background region\n",
        "    background = (mask < mask_margin)\n",
        "\n",
        "    ## get unknown region: outside of background and foreground\n",
        "    unknown = ~(foreground + background)\n",
        "\n",
        "    ## dilate unknown area with elliptical kernel.\n",
        "    unknown = cv2.dilate(\n",
        "        unknown.astype(np.uint8),\n",
        "        cv2.getStructuringElement(cv2.MORPH_ELLIPSE, (open_size, open_size))\n",
        "    ).astype(np.bool)\n",
        "\n",
        "    # draw trimap\n",
        "    trimap = np.zeros_like(mask)\n",
        "    trimap[foreground] = 255\n",
        "    trimap[unknown] = 127\n",
        "\n",
        "    # save trimap\n",
        "    #cv2.imwrite(dst_path, trimap)\n",
        "    cv2.imwrite(f\"/content/drive/MyDrive/BeCode/Faktion/Flask/static/trimap/{mask_path.split('/')[-1]}\",trimap)\n",
        "    return mask_path.split('/')[-1]"
      ],
      "execution_count": null,
      "outputs": []
    },
    {
      "cell_type": "markdown",
      "metadata": {
        "id": "4oDhBB3swFoc"
      },
      "source": [
        "Inference with DIM pretrained model"
      ]
    },
    {
      "cell_type": "code",
      "metadata": {
        "id": "V8u1T9AuwO7X",
        "colab": {
          "base_uri": "https://localhost:8080/",
          "height": 1000
        },
        "outputId": "2350933b-532d-43ba-9ae8-33d2156bf751"
      },
      "source": [
        "from torchvision import transforms\n",
        "%cd /content/drive/MyDrive/Faktion/model_code\n",
        "from config import device\n",
        "from utils import ensure_folder\n",
        "\n",
        "\n",
        "IMG_FOLDER = '/content/drive/MyDrive/Faktion/Datasets/DUTS-TR/DUTS-TR-Image'\n",
        "TRIMAP_FOLDERS = ['/content/drive/MyDrive/Faktion/Datasets/DUTS-TR/DUTS-TR-Trimap', '/content/drive/MyDrive/Faktion/Datasets/DUTS-TR/DUTS-TR-Trimap-Simon']\n",
        "OUTPUT_FOLDERS = ['/content/drive/MyDrive/Faktion/Datasets/DUTS-TR/DUTS-TR-Trimap-Output',\n",
        "                  '/content/drive/MyDrive/Faktion/Datasets/DUTS-TR/DUTS-TR-Trimap-Simon-Output']\n",
        "\n",
        "\n",
        "print(1)\n",
        "\n",
        "checkpoint = '/content/drive/MyDrive/Faktion/BEST_checkpoint.tar'\n",
        "checkpoint = torch.load(checkpoint)\n",
        "print(2)\n",
        "model = checkpoint['model'].module\n",
        "model = model.to(device)\n",
        "model.eval()\n",
        "print('model eval')\n",
        "\n",
        "\n",
        "files = [f for f in os.listdir(IMG_FOLDER)]\n",
        "\n",
        "for file in tqdm(files):\n",
        "  print('for loop 1')\n",
        "  filename = os.path.join(IMG_FOLDER, file)\n",
        "  img = cv.imread(filename)\n",
        "  print(img.shape)\n",
        "  h, w = img.shape[:2]\n",
        "\n",
        "  x = torch.zeros((1, 4, h, w), dtype=torch.float)\n",
        "  image = img[..., ::-1]  # RGB\n",
        "  image = transforms.ToPILImage()(image)\n",
        "\n",
        "  transformer = transforms.Compose(\n",
        "      [\n",
        "        transforms.ToTensor(),\n",
        "        transforms.Normalize([0.485, 0.456, 0.406], [0.229, 0.224, 0.225])\n",
        "  ])\n",
        "\n",
        "  image = transformer(image)\n",
        "  x[0:, 0:3, :, :] = image\n",
        "\n",
        "  for i in range(2):\n",
        "    print('for loop 2')\n",
        "    filename = os.path.join(TRIMAP_FOLDERS[i], file.replace('.jpg', '.png'))\n",
        "    print('reading {}...'.format(filename))\n",
        "    trimap = cv.imread(filename, 0)\n",
        "    print(trimap)\n",
        "    x[0:, 3, :, :] = torch.from_numpy(trimap.copy() / 255.)\n",
        "    # print(torch.max(x[0:, 3, :, :]))\n",
        "    # print(torch.min(x[0:, 3, :, :]))\n",
        "    # print(torch.median(x[0:, 3, :, :]))\n",
        "\n",
        "    # Move to GPU, if available\n",
        "    x = x.type(torch.FloatTensor).to(device)\n",
        "\n",
        "    with torch.no_grad():\n",
        "        pred = model(x)\n",
        "\n",
        "    pred = pred.cpu().numpy()\n",
        "    pred = pred.reshape((h, w))\n",
        "\n",
        "    pred[trimap == 0] = 0.0\n",
        "    pred[trimap == 255] = 1.0\n",
        "\n",
        "    out = (pred.copy() * 255).astype(np.uint8)\n",
        "\n",
        "    filename = os.path.join(OUTPUT_FOLDERS[i], file)\n",
        "    cv.imread(filename)\n",
        "    cv.imwrite(filename, out)\n",
        "    print('wrote {}.'.format(filename))"
      ],
      "execution_count": null,
      "outputs": [
        {
          "output_type": "stream",
          "text": [
            "/content/drive/.shortcut-targets-by-id/1pbfU2Nkn_OKUrAgN_cnPqhS91KoSQBr8/Faktion/model_code\n",
            "1\n"
          ],
          "name": "stdout"
        },
        {
          "output_type": "stream",
          "text": [
            "/usr/local/lib/python3.7/dist-packages/torch/serialization.py:656: SourceChangeWarning: source code of class 'torch.nn.parallel.data_parallel.DataParallel' has changed. you can retrieve the original source code by accessing the object's source attribute or set `torch.nn.Module.dump_patches = True` and use the patch tool to revert the changes.\n",
            "  warnings.warn(msg, SourceChangeWarning)\n",
            "/usr/local/lib/python3.7/dist-packages/torch/serialization.py:656: SourceChangeWarning: source code of class 'torch.nn.modules.container.Sequential' has changed. you can retrieve the original source code by accessing the object's source attribute or set `torch.nn.Module.dump_patches = True` and use the patch tool to revert the changes.\n",
            "  warnings.warn(msg, SourceChangeWarning)\n",
            "/usr/local/lib/python3.7/dist-packages/torch/serialization.py:656: SourceChangeWarning: source code of class 'torch.nn.modules.conv.Conv2d' has changed. you can retrieve the original source code by accessing the object's source attribute or set `torch.nn.Module.dump_patches = True` and use the patch tool to revert the changes.\n",
            "  warnings.warn(msg, SourceChangeWarning)\n",
            "/usr/local/lib/python3.7/dist-packages/torch/serialization.py:656: SourceChangeWarning: source code of class 'torch.nn.modules.batchnorm.BatchNorm2d' has changed. you can retrieve the original source code by accessing the object's source attribute or set `torch.nn.Module.dump_patches = True` and use the patch tool to revert the changes.\n",
            "  warnings.warn(msg, SourceChangeWarning)\n",
            "/usr/local/lib/python3.7/dist-packages/torch/serialization.py:656: SourceChangeWarning: source code of class 'torch.nn.modules.activation.ReLU' has changed. you can retrieve the original source code by accessing the object's source attribute or set `torch.nn.Module.dump_patches = True` and use the patch tool to revert the changes.\n",
            "  warnings.warn(msg, SourceChangeWarning)\n",
            "/usr/local/lib/python3.7/dist-packages/torch/serialization.py:656: SourceChangeWarning: source code of class 'torch.nn.modules.pooling.MaxPool2d' has changed. you can retrieve the original source code by accessing the object's source attribute or set `torch.nn.Module.dump_patches = True` and use the patch tool to revert the changes.\n",
            "  warnings.warn(msg, SourceChangeWarning)\n",
            "/usr/local/lib/python3.7/dist-packages/torch/serialization.py:656: SourceChangeWarning: source code of class 'torch.nn.modules.pooling.MaxUnpool2d' has changed. you can retrieve the original source code by accessing the object's source attribute or set `torch.nn.Module.dump_patches = True` and use the patch tool to revert the changes.\n",
            "  warnings.warn(msg, SourceChangeWarning)\n",
            "/usr/local/lib/python3.7/dist-packages/torch/serialization.py:656: SourceChangeWarning: source code of class 'torch.nn.modules.activation.Sigmoid' has changed. you can retrieve the original source code by accessing the object's source attribute or set `torch.nn.Module.dump_patches = True` and use the patch tool to revert the changes.\n",
            "  warnings.warn(msg, SourceChangeWarning)\n",
            "  0%|          | 0/10553 [00:00<?, ?it/s]"
          ],
          "name": "stderr"
        },
        {
          "output_type": "stream",
          "text": [
            "2\n",
            "model eval\n",
            "for loop 1\n",
            "(300, 400, 3)\n",
            "for loop 2\n",
            "reading /content/drive/MyDrive/Faktion/Datasets/DUTS-TR/DUTS-TR-Trimap/n07930864_7479.png...\n",
            "[[0 0 0 ... 0 0 0]\n",
            " [0 0 0 ... 0 0 0]\n",
            " [0 0 0 ... 0 0 0]\n",
            " ...\n",
            " [0 0 0 ... 0 0 0]\n",
            " [0 0 0 ... 0 0 0]\n",
            " [0 0 0 ... 0 0 0]]\n",
            "wrote /content/drive/MyDrive/Faktion/Datasets/DUTS-TR/DUTS-TR-Trimap-Output/n07930864_7479.jpg.\n",
            "for loop 2\n",
            "reading /content/drive/MyDrive/Faktion/Datasets/DUTS-TR/DUTS-TR-Trimap-Simon/n07930864_7479.png...\n"
          ],
          "name": "stdout"
        },
        {
          "output_type": "stream",
          "text": [
            "\r  0%|          | 1/10553 [00:00<2:55:31,  1.00it/s]"
          ],
          "name": "stderr"
        },
        {
          "output_type": "stream",
          "text": [
            "[[0 0 0 ... 0 0 0]\n",
            " [0 0 0 ... 0 0 0]\n",
            " [0 0 0 ... 0 0 0]\n",
            " ...\n",
            " [0 0 0 ... 0 0 0]\n",
            " [0 0 0 ... 0 0 0]\n",
            " [0 0 0 ... 0 0 0]]\n",
            "wrote /content/drive/MyDrive/Faktion/Datasets/DUTS-TR/DUTS-TR-Trimap-Simon-Output/n07930864_7479.jpg.\n",
            "for loop 1\n",
            "(285, 400, 3)\n",
            "for loop 2\n",
            "reading /content/drive/MyDrive/Faktion/Datasets/DUTS-TR/DUTS-TR-Trimap/n03710721_7570.png...\n",
            "[[0 0 0 ... 0 0 0]\n",
            " [0 0 0 ... 0 0 0]\n",
            " [0 0 0 ... 0 0 0]\n",
            " ...\n",
            " [0 0 0 ... 0 0 0]\n",
            " [0 0 0 ... 0 0 0]\n",
            " [0 0 0 ... 0 0 0]]\n",
            "wrote /content/drive/MyDrive/Faktion/Datasets/DUTS-TR/DUTS-TR-Trimap-Output/n03710721_7570.jpg.\n",
            "for loop 2\n",
            "reading /content/drive/MyDrive/Faktion/Datasets/DUTS-TR/DUTS-TR-Trimap-Simon/n03710721_7570.png...\n"
          ],
          "name": "stdout"
        },
        {
          "output_type": "stream",
          "text": [
            "\r  0%|          | 2/10553 [00:02<3:04:22,  1.05s/it]"
          ],
          "name": "stderr"
        },
        {
          "output_type": "stream",
          "text": [
            "[[0 0 0 ... 0 0 0]\n",
            " [0 0 0 ... 0 0 0]\n",
            " [0 0 0 ... 0 0 0]\n",
            " ...\n",
            " [0 0 0 ... 0 0 0]\n",
            " [0 0 0 ... 0 0 0]\n",
            " [0 0 0 ... 0 0 0]]\n",
            "wrote /content/drive/MyDrive/Faktion/Datasets/DUTS-TR/DUTS-TR-Trimap-Simon-Output/n03710721_7570.jpg.\n",
            "for loop 1\n",
            "(267, 400, 3)\n",
            "for loop 2\n",
            "reading /content/drive/MyDrive/Faktion/Datasets/DUTS-TR/DUTS-TR-Trimap/n07749582_8533.png...\n",
            "[[0 0 0 ... 0 0 0]\n",
            " [0 0 0 ... 0 0 0]\n",
            " [0 0 0 ... 0 0 0]\n",
            " ...\n",
            " [0 0 0 ... 0 0 0]\n",
            " [0 0 0 ... 0 0 0]\n",
            " [0 0 0 ... 0 0 0]]\n",
            "wrote /content/drive/MyDrive/Faktion/Datasets/DUTS-TR/DUTS-TR-Trimap-Output/n07749582_8533.jpg.\n",
            "for loop 2\n",
            "reading /content/drive/MyDrive/Faktion/Datasets/DUTS-TR/DUTS-TR-Trimap-Simon/n07749582_8533.png...\n"
          ],
          "name": "stdout"
        },
        {
          "output_type": "stream",
          "text": [
            "\r  0%|          | 3/10553 [00:03<3:24:40,  1.16s/it]"
          ],
          "name": "stderr"
        },
        {
          "output_type": "stream",
          "text": [
            "[[0 0 0 ... 0 0 0]\n",
            " [0 0 0 ... 0 0 0]\n",
            " [0 0 0 ... 0 0 0]\n",
            " ...\n",
            " [0 0 0 ... 0 0 0]\n",
            " [0 0 0 ... 0 0 0]\n",
            " [0 0 0 ... 0 0 0]]\n",
            "wrote /content/drive/MyDrive/Faktion/Datasets/DUTS-TR/DUTS-TR-Trimap-Simon-Output/n07749582_8533.jpg.\n",
            "for loop 1\n",
            "(400, 399, 3)\n",
            "for loop 2\n",
            "reading /content/drive/MyDrive/Faktion/Datasets/DUTS-TR/DUTS-TR-Trimap/n04019541_6877.png...\n",
            "[[0 0 0 ... 0 0 0]\n",
            " [0 0 0 ... 0 0 0]\n",
            " [0 0 0 ... 0 0 0]\n",
            " ...\n",
            " [0 0 0 ... 0 0 0]\n",
            " [0 0 0 ... 0 0 0]\n",
            " [0 0 0 ... 0 0 0]]\n",
            "wrote /content/drive/MyDrive/Faktion/Datasets/DUTS-TR/DUTS-TR-Trimap-Output/n04019541_6877.jpg.\n",
            "for loop 2\n",
            "reading /content/drive/MyDrive/Faktion/Datasets/DUTS-TR/DUTS-TR-Trimap-Simon/n04019541_6877.png...\n"
          ],
          "name": "stdout"
        },
        {
          "output_type": "stream",
          "text": [
            "\r  0%|          | 4/10553 [00:04<3:29:43,  1.19s/it]"
          ],
          "name": "stderr"
        },
        {
          "output_type": "stream",
          "text": [
            "[[0 0 0 ... 0 0 0]\n",
            " [0 0 0 ... 0 0 0]\n",
            " [0 0 0 ... 0 0 0]\n",
            " ...\n",
            " [0 0 0 ... 0 0 0]\n",
            " [0 0 0 ... 0 0 0]\n",
            " [0 0 0 ... 0 0 0]]\n",
            "wrote /content/drive/MyDrive/Faktion/Datasets/DUTS-TR/DUTS-TR-Trimap-Simon-Output/n04019541_6877.jpg.\n",
            "for loop 1\n",
            "(400, 267, 3)\n",
            "for loop 2\n",
            "reading /content/drive/MyDrive/Faktion/Datasets/DUTS-TR/DUTS-TR-Trimap/n02131653_10413.png...\n",
            "[[0 0 0 ... 0 0 0]\n",
            " [0 0 0 ... 0 0 0]\n",
            " [0 0 0 ... 0 0 0]\n",
            " ...\n",
            " [0 0 0 ... 0 0 0]\n",
            " [0 0 0 ... 0 0 0]\n",
            " [0 0 0 ... 0 0 0]]\n",
            "wrote /content/drive/MyDrive/Faktion/Datasets/DUTS-TR/DUTS-TR-Trimap-Output/n02131653_10413.jpg.\n",
            "for loop 2\n",
            "reading /content/drive/MyDrive/Faktion/Datasets/DUTS-TR/DUTS-TR-Trimap-Simon/n02131653_10413.png...\n"
          ],
          "name": "stdout"
        },
        {
          "output_type": "stream",
          "text": [
            "\r  0%|          | 5/10553 [00:06<3:32:06,  1.21s/it]"
          ],
          "name": "stderr"
        },
        {
          "output_type": "stream",
          "text": [
            "[[0 0 0 ... 0 0 0]\n",
            " [0 0 0 ... 0 0 0]\n",
            " [0 0 0 ... 0 0 0]\n",
            " ...\n",
            " [0 0 0 ... 0 0 0]\n",
            " [0 0 0 ... 0 0 0]\n",
            " [0 0 0 ... 0 0 0]]\n",
            "wrote /content/drive/MyDrive/Faktion/Datasets/DUTS-TR/DUTS-TR-Trimap-Simon-Output/n02131653_10413.jpg.\n",
            "for loop 1\n",
            "(300, 400, 3)\n",
            "for loop 2\n",
            "reading /content/drive/MyDrive/Faktion/Datasets/DUTS-TR/DUTS-TR-Trimap/n03100240_6944.png...\n",
            "[[0 0 0 ... 0 0 0]\n",
            " [0 0 0 ... 0 0 0]\n",
            " [0 0 0 ... 0 0 0]\n",
            " ...\n",
            " [0 0 0 ... 0 0 0]\n",
            " [0 0 0 ... 0 0 0]\n",
            " [0 0 0 ... 0 0 0]]\n",
            "wrote /content/drive/MyDrive/Faktion/Datasets/DUTS-TR/DUTS-TR-Trimap-Output/n03100240_6944.jpg.\n",
            "for loop 2\n",
            "reading /content/drive/MyDrive/Faktion/Datasets/DUTS-TR/DUTS-TR-Trimap-Simon/n03100240_6944.png...\n"
          ],
          "name": "stdout"
        },
        {
          "output_type": "stream",
          "text": [
            "\r  0%|          | 6/10553 [00:07<3:47:23,  1.29s/it]"
          ],
          "name": "stderr"
        },
        {
          "output_type": "stream",
          "text": [
            "[[0 0 0 ... 0 0 0]\n",
            " [0 0 0 ... 0 0 0]\n",
            " [0 0 0 ... 0 0 0]\n",
            " ...\n",
            " [0 0 0 ... 0 0 0]\n",
            " [0 0 0 ... 0 0 0]\n",
            " [0 0 0 ... 0 0 0]]\n",
            "wrote /content/drive/MyDrive/Faktion/Datasets/DUTS-TR/DUTS-TR-Trimap-Simon-Output/n03100240_6944.jpg.\n",
            "for loop 1\n",
            "(267, 400, 3)\n",
            "for loop 2\n",
            "reading /content/drive/MyDrive/Faktion/Datasets/DUTS-TR/DUTS-TR-Trimap/n02992211_38350.png...\n",
            "[[0 0 0 ... 0 0 0]\n",
            " [0 0 0 ... 0 0 0]\n",
            " [0 0 0 ... 0 0 0]\n",
            " ...\n",
            " [0 0 0 ... 0 0 0]\n",
            " [0 0 0 ... 0 0 0]\n",
            " [0 0 0 ... 0 0 0]]\n",
            "wrote /content/drive/MyDrive/Faktion/Datasets/DUTS-TR/DUTS-TR-Trimap-Output/n02992211_38350.jpg.\n",
            "for loop 2\n",
            "reading /content/drive/MyDrive/Faktion/Datasets/DUTS-TR/DUTS-TR-Trimap-Simon/n02992211_38350.png...\n"
          ],
          "name": "stdout"
        },
        {
          "output_type": "stream",
          "text": [
            "\r  0%|          | 7/10553 [00:08<3:46:10,  1.29s/it]"
          ],
          "name": "stderr"
        },
        {
          "output_type": "stream",
          "text": [
            "[[0 0 0 ... 0 0 0]\n",
            " [0 0 0 ... 0 0 0]\n",
            " [0 0 0 ... 0 0 0]\n",
            " ...\n",
            " [0 0 0 ... 0 0 0]\n",
            " [0 0 0 ... 0 0 0]\n",
            " [0 0 0 ... 0 0 0]]\n",
            "wrote /content/drive/MyDrive/Faktion/Datasets/DUTS-TR/DUTS-TR-Trimap-Simon-Output/n02992211_38350.jpg.\n",
            "for loop 1\n",
            "(267, 400, 3)\n",
            "for loop 2\n",
            "reading /content/drive/MyDrive/Faktion/Datasets/DUTS-TR/DUTS-TR-Trimap/n07930864_10937.png...\n",
            "[[0 0 0 ... 0 0 0]\n",
            " [0 0 0 ... 0 0 0]\n",
            " [0 0 0 ... 0 0 0]\n",
            " ...\n",
            " [0 0 0 ... 0 0 0]\n",
            " [0 0 0 ... 0 0 0]\n",
            " [0 0 0 ... 0 0 0]]\n",
            "wrote /content/drive/MyDrive/Faktion/Datasets/DUTS-TR/DUTS-TR-Trimap-Output/n07930864_10937.jpg.\n",
            "for loop 2\n",
            "reading /content/drive/MyDrive/Faktion/Datasets/DUTS-TR/DUTS-TR-Trimap-Simon/n07930864_10937.png...\n"
          ],
          "name": "stdout"
        },
        {
          "output_type": "stream",
          "text": [
            "\r  0%|          | 8/10553 [00:10<3:46:27,  1.29s/it]"
          ],
          "name": "stderr"
        },
        {
          "output_type": "stream",
          "text": [
            "[[0 0 0 ... 0 0 0]\n",
            " [0 0 0 ... 0 0 0]\n",
            " [0 0 0 ... 0 0 0]\n",
            " ...\n",
            " [0 0 0 ... 0 0 0]\n",
            " [0 0 0 ... 0 0 0]\n",
            " [0 0 0 ... 0 0 0]]\n",
            "wrote /content/drive/MyDrive/Faktion/Datasets/DUTS-TR/DUTS-TR-Trimap-Simon-Output/n07930864_10937.jpg.\n",
            "for loop 1\n",
            "(300, 400, 3)\n",
            "for loop 2\n",
            "reading /content/drive/MyDrive/Faktion/Datasets/DUTS-TR/DUTS-TR-Trimap/n03134739_1100.png...\n",
            "[[0 0 0 ... 0 0 0]\n",
            " [0 0 0 ... 0 0 0]\n",
            " [0 0 0 ... 0 0 0]\n",
            " ...\n",
            " [0 0 0 ... 0 0 0]\n",
            " [0 0 0 ... 0 0 0]\n",
            " [0 0 0 ... 0 0 0]]\n",
            "wrote /content/drive/MyDrive/Faktion/Datasets/DUTS-TR/DUTS-TR-Trimap-Output/n03134739_1100.jpg.\n",
            "for loop 2\n",
            "reading /content/drive/MyDrive/Faktion/Datasets/DUTS-TR/DUTS-TR-Trimap-Simon/n03134739_1100.png...\n"
          ],
          "name": "stdout"
        },
        {
          "output_type": "stream",
          "text": [
            "\r  0%|          | 9/10553 [00:11<3:44:10,  1.28s/it]"
          ],
          "name": "stderr"
        },
        {
          "output_type": "stream",
          "text": [
            "[[0 0 0 ... 0 0 0]\n",
            " [0 0 0 ... 0 0 0]\n",
            " [0 0 0 ... 0 0 0]\n",
            " ...\n",
            " [0 0 0 ... 0 0 0]\n",
            " [0 0 0 ... 0 0 0]\n",
            " [0 0 0 ... 0 0 0]]\n",
            "wrote /content/drive/MyDrive/Faktion/Datasets/DUTS-TR/DUTS-TR-Trimap-Simon-Output/n03134739_1100.jpg.\n",
            "for loop 1\n",
            "(300, 400, 3)\n",
            "for loop 2\n",
            "reading /content/drive/MyDrive/Faktion/Datasets/DUTS-TR/DUTS-TR-Trimap/n07718747_8975.png...\n",
            "[[0 0 0 ... 0 0 0]\n",
            " [0 0 0 ... 0 0 0]\n",
            " [0 0 0 ... 0 0 0]\n",
            " ...\n",
            " [0 0 0 ... 0 0 0]\n",
            " [0 0 0 ... 0 0 0]\n",
            " [0 0 0 ... 0 0 0]]\n",
            "wrote /content/drive/MyDrive/Faktion/Datasets/DUTS-TR/DUTS-TR-Trimap-Output/n07718747_8975.jpg.\n",
            "for loop 2\n",
            "reading /content/drive/MyDrive/Faktion/Datasets/DUTS-TR/DUTS-TR-Trimap-Simon/n07718747_8975.png...\n"
          ],
          "name": "stdout"
        },
        {
          "output_type": "stream",
          "text": [
            "\r  0%|          | 10/10553 [00:12<3:33:09,  1.21s/it]"
          ],
          "name": "stderr"
        },
        {
          "output_type": "stream",
          "text": [
            "[[0 0 0 ... 0 0 0]\n",
            " [0 0 0 ... 0 0 0]\n",
            " [0 0 0 ... 0 0 0]\n",
            " ...\n",
            " [0 0 0 ... 0 0 0]\n",
            " [0 0 0 ... 0 0 0]\n",
            " [0 0 0 ... 0 0 0]]\n",
            "wrote /content/drive/MyDrive/Faktion/Datasets/DUTS-TR/DUTS-TR-Trimap-Simon-Output/n07718747_8975.jpg.\n",
            "for loop 1\n",
            "(266, 400, 3)\n",
            "for loop 2\n",
            "reading /content/drive/MyDrive/Faktion/Datasets/DUTS-TR/DUTS-TR-Trimap/ILSVRC2012_test_00086111.png...\n",
            "[[0 0 0 ... 0 0 0]\n",
            " [0 0 0 ... 0 0 0]\n",
            " [0 0 0 ... 0 0 0]\n",
            " ...\n",
            " [0 0 0 ... 0 0 0]\n",
            " [0 0 0 ... 0 0 0]\n",
            " [0 0 0 ... 0 0 0]]\n",
            "wrote /content/drive/MyDrive/Faktion/Datasets/DUTS-TR/DUTS-TR-Trimap-Output/ILSVRC2012_test_00086111.jpg.\n",
            "for loop 2\n",
            "reading /content/drive/MyDrive/Faktion/Datasets/DUTS-TR/DUTS-TR-Trimap-Simon/ILSVRC2012_test_00086111.png...\n"
          ],
          "name": "stdout"
        },
        {
          "output_type": "stream",
          "text": [
            "\r  0%|          | 11/10553 [00:13<3:34:43,  1.22s/it]"
          ],
          "name": "stderr"
        },
        {
          "output_type": "stream",
          "text": [
            "[[0 0 0 ... 0 0 0]\n",
            " [0 0 0 ... 0 0 0]\n",
            " [0 0 0 ... 0 0 0]\n",
            " ...\n",
            " [0 0 0 ... 0 0 0]\n",
            " [0 0 0 ... 0 0 0]\n",
            " [0 0 0 ... 0 0 0]]\n",
            "wrote /content/drive/MyDrive/Faktion/Datasets/DUTS-TR/DUTS-TR-Trimap-Simon-Output/ILSVRC2012_test_00086111.jpg.\n",
            "for loop 1\n",
            "(300, 400, 3)\n",
            "for loop 2\n",
            "reading /content/drive/MyDrive/Faktion/Datasets/DUTS-TR/DUTS-TR-Trimap/ILSVRC2012_val_00002885.png...\n",
            "[[0 0 0 ... 0 0 0]\n",
            " [0 0 0 ... 0 0 0]\n",
            " [0 0 0 ... 0 0 0]\n",
            " ...\n",
            " [0 0 0 ... 0 0 0]\n",
            " [0 0 0 ... 0 0 0]\n",
            " [0 0 0 ... 0 0 0]]\n",
            "wrote /content/drive/MyDrive/Faktion/Datasets/DUTS-TR/DUTS-TR-Trimap-Output/ILSVRC2012_val_00002885.jpg.\n",
            "for loop 2\n",
            "reading /content/drive/MyDrive/Faktion/Datasets/DUTS-TR/DUTS-TR-Trimap-Simon/ILSVRC2012_val_00002885.png...\n"
          ],
          "name": "stdout"
        },
        {
          "output_type": "stream",
          "text": [
            "\r  0%|          | 12/10553 [00:14<3:36:17,  1.23s/it]"
          ],
          "name": "stderr"
        },
        {
          "output_type": "stream",
          "text": [
            "[[0 0 0 ... 0 0 0]\n",
            " [0 0 0 ... 0 0 0]\n",
            " [0 0 0 ... 0 0 0]\n",
            " ...\n",
            " [0 0 0 ... 0 0 0]\n",
            " [0 0 0 ... 0 0 0]\n",
            " [0 0 0 ... 0 0 0]]\n",
            "wrote /content/drive/MyDrive/Faktion/Datasets/DUTS-TR/DUTS-TR-Trimap-Simon-Output/ILSVRC2012_val_00002885.jpg.\n",
            "for loop 1\n",
            "(267, 400, 3)\n",
            "for loop 2\n",
            "reading /content/drive/MyDrive/Faktion/Datasets/DUTS-TR/DUTS-TR-Trimap/n01644373_15061.png...\n",
            "[[0 0 0 ... 0 0 0]\n",
            " [0 0 0 ... 0 0 0]\n",
            " [0 0 0 ... 0 0 0]\n",
            " ...\n",
            " [0 0 0 ... 0 0 0]\n",
            " [0 0 0 ... 0 0 0]\n",
            " [0 0 0 ... 0 0 0]]\n",
            "wrote /content/drive/MyDrive/Faktion/Datasets/DUTS-TR/DUTS-TR-Trimap-Output/n01644373_15061.jpg.\n",
            "for loop 2\n",
            "reading /content/drive/MyDrive/Faktion/Datasets/DUTS-TR/DUTS-TR-Trimap-Simon/n01644373_15061.png...\n"
          ],
          "name": "stdout"
        },
        {
          "output_type": "stream",
          "text": [
            "\r  0%|          | 13/10553 [00:16<3:42:43,  1.27s/it]"
          ],
          "name": "stderr"
        },
        {
          "output_type": "stream",
          "text": [
            "[[0 0 0 ... 0 0 0]\n",
            " [0 0 0 ... 0 0 0]\n",
            " [0 0 0 ... 0 0 0]\n",
            " ...\n",
            " [0 0 0 ... 0 0 0]\n",
            " [0 0 0 ... 0 0 0]\n",
            " [0 0 0 ... 0 0 0]]\n",
            "wrote /content/drive/MyDrive/Faktion/Datasets/DUTS-TR/DUTS-TR-Trimap-Simon-Output/n01644373_15061.jpg.\n",
            "for loop 1\n",
            "(300, 400, 3)\n",
            "for loop 2\n",
            "reading /content/drive/MyDrive/Faktion/Datasets/DUTS-TR/DUTS-TR-Trimap/n03017168_13524.png...\n",
            "[[0 0 0 ... 0 0 0]\n",
            " [0 0 0 ... 0 0 0]\n",
            " [0 0 0 ... 0 0 0]\n",
            " ...\n",
            " [0 0 0 ... 0 0 0]\n",
            " [0 0 0 ... 0 0 0]\n",
            " [0 0 0 ... 0 0 0]]\n",
            "wrote /content/drive/MyDrive/Faktion/Datasets/DUTS-TR/DUTS-TR-Trimap-Output/n03017168_13524.jpg.\n",
            "for loop 2\n",
            "reading /content/drive/MyDrive/Faktion/Datasets/DUTS-TR/DUTS-TR-Trimap-Simon/n03017168_13524.png...\n"
          ],
          "name": "stdout"
        },
        {
          "output_type": "stream",
          "text": [
            "\r  0%|          | 14/10553 [00:17<3:40:58,  1.26s/it]"
          ],
          "name": "stderr"
        },
        {
          "output_type": "stream",
          "text": [
            "[[0 0 0 ... 0 0 0]\n",
            " [0 0 0 ... 0 0 0]\n",
            " [0 0 0 ... 0 0 0]\n",
            " ...\n",
            " [0 0 0 ... 0 0 0]\n",
            " [0 0 0 ... 0 0 0]\n",
            " [0 0 0 ... 0 0 0]]\n",
            "wrote /content/drive/MyDrive/Faktion/Datasets/DUTS-TR/DUTS-TR-Trimap-Simon-Output/n03017168_13524.jpg.\n",
            "for loop 1\n",
            "(250, 400, 3)\n",
            "for loop 2\n",
            "reading /content/drive/MyDrive/Faktion/Datasets/DUTS-TR/DUTS-TR-Trimap/ILSVRC2013_test_00004862.png...\n",
            "[[0 0 0 ... 0 0 0]\n",
            " [0 0 0 ... 0 0 0]\n",
            " [0 0 0 ... 0 0 0]\n",
            " ...\n",
            " [0 0 0 ... 0 0 0]\n",
            " [0 0 0 ... 0 0 0]\n",
            " [0 0 0 ... 0 0 0]]\n",
            "wrote /content/drive/MyDrive/Faktion/Datasets/DUTS-TR/DUTS-TR-Trimap-Output/ILSVRC2013_test_00004862.jpg.\n",
            "for loop 2\n",
            "reading /content/drive/MyDrive/Faktion/Datasets/DUTS-TR/DUTS-TR-Trimap-Simon/ILSVRC2013_test_00004862.png...\n"
          ],
          "name": "stdout"
        },
        {
          "output_type": "stream",
          "text": [
            "\r  0%|          | 15/10553 [00:18<3:33:52,  1.22s/it]"
          ],
          "name": "stderr"
        },
        {
          "output_type": "stream",
          "text": [
            "[[0 0 0 ... 0 0 0]\n",
            " [0 0 0 ... 0 0 0]\n",
            " [0 0 0 ... 0 0 0]\n",
            " ...\n",
            " [0 0 0 ... 0 0 0]\n",
            " [0 0 0 ... 0 0 0]\n",
            " [0 0 0 ... 0 0 0]]\n",
            "wrote /content/drive/MyDrive/Faktion/Datasets/DUTS-TR/DUTS-TR-Trimap-Simon-Output/ILSVRC2013_test_00004862.jpg.\n",
            "for loop 1\n",
            "(400, 301, 3)\n",
            "for loop 2\n",
            "reading /content/drive/MyDrive/Faktion/Datasets/DUTS-TR/DUTS-TR-Trimap/sun_awpvmiamsavqxicg.png...\n",
            "[[0 0 0 ... 0 0 0]\n",
            " [0 0 0 ... 0 0 0]\n",
            " [0 0 0 ... 0 0 0]\n",
            " ...\n",
            " [0 0 0 ... 0 0 0]\n",
            " [0 0 0 ... 0 0 0]\n",
            " [0 0 0 ... 0 0 0]]\n",
            "wrote /content/drive/MyDrive/Faktion/Datasets/DUTS-TR/DUTS-TR-Trimap-Output/sun_awpvmiamsavqxicg.jpg.\n",
            "for loop 2\n",
            "reading /content/drive/MyDrive/Faktion/Datasets/DUTS-TR/DUTS-TR-Trimap-Simon/sun_awpvmiamsavqxicg.png...\n"
          ],
          "name": "stdout"
        },
        {
          "output_type": "stream",
          "text": [
            "\r  0%|          | 16/10553 [00:19<3:35:35,  1.23s/it]"
          ],
          "name": "stderr"
        },
        {
          "output_type": "stream",
          "text": [
            "[[0 0 0 ... 0 0 0]\n",
            " [0 0 0 ... 0 0 0]\n",
            " [0 0 0 ... 0 0 0]\n",
            " ...\n",
            " [0 0 0 ... 0 0 0]\n",
            " [0 0 0 ... 0 0 0]\n",
            " [0 0 0 ... 0 0 0]]\n",
            "wrote /content/drive/MyDrive/Faktion/Datasets/DUTS-TR/DUTS-TR-Trimap-Simon-Output/sun_awpvmiamsavqxicg.jpg.\n",
            "for loop 1\n",
            "(400, 400, 3)\n",
            "for loop 2\n",
            "reading /content/drive/MyDrive/Faktion/Datasets/DUTS-TR/DUTS-TR-Trimap/n07718747_470.png...\n",
            "[[0 0 0 ... 0 0 0]\n",
            " [0 0 0 ... 0 0 0]\n",
            " [0 0 0 ... 0 0 0]\n",
            " ...\n",
            " [0 0 0 ... 0 0 0]\n",
            " [0 0 0 ... 0 0 0]\n",
            " [0 0 0 ... 0 0 0]]\n",
            "wrote /content/drive/MyDrive/Faktion/Datasets/DUTS-TR/DUTS-TR-Trimap-Output/n07718747_470.jpg.\n",
            "for loop 2\n",
            "reading /content/drive/MyDrive/Faktion/Datasets/DUTS-TR/DUTS-TR-Trimap-Simon/n07718747_470.png...\n"
          ],
          "name": "stdout"
        },
        {
          "output_type": "stream",
          "text": [
            "\r  0%|          | 17/10553 [00:21<3:39:49,  1.25s/it]"
          ],
          "name": "stderr"
        },
        {
          "output_type": "stream",
          "text": [
            "[[0 0 0 ... 0 0 0]\n",
            " [0 0 0 ... 0 0 0]\n",
            " [0 0 0 ... 0 0 0]\n",
            " ...\n",
            " [0 0 0 ... 0 0 0]\n",
            " [0 0 0 ... 0 0 0]\n",
            " [0 0 0 ... 0 0 0]]\n",
            "wrote /content/drive/MyDrive/Faktion/Datasets/DUTS-TR/DUTS-TR-Trimap-Simon-Output/n07718747_470.jpg.\n",
            "for loop 1\n",
            "(400, 300, 3)\n",
            "for loop 2\n",
            "reading /content/drive/MyDrive/Faktion/Datasets/DUTS-TR/DUTS-TR-Trimap/ILSVRC2012_test_00015074.png...\n",
            "[[0 0 0 ... 0 0 0]\n",
            " [0 0 0 ... 0 0 0]\n",
            " [0 0 0 ... 0 0 0]\n",
            " ...\n",
            " [0 0 0 ... 0 0 0]\n",
            " [0 0 0 ... 0 0 0]\n",
            " [0 0 0 ... 0 0 0]]\n",
            "wrote /content/drive/MyDrive/Faktion/Datasets/DUTS-TR/DUTS-TR-Trimap-Output/ILSVRC2012_test_00015074.jpg.\n",
            "for loop 2\n",
            "reading /content/drive/MyDrive/Faktion/Datasets/DUTS-TR/DUTS-TR-Trimap-Simon/ILSVRC2012_test_00015074.png...\n",
            "[[0 0 0 ... 0 0 0]\n",
            " [0 0 0 ... 0 0 0]\n",
            " [0 0 0 ... 0 0 0]\n",
            " ...\n",
            " [0 0 0 ... 0 0 0]\n",
            " [0 0 0 ... 0 0 0]\n",
            " [0 0 0 ... 0 0 0]]\n"
          ],
          "name": "stdout"
        },
        {
          "output_type": "stream",
          "text": [
            "\r  0%|          | 18/10553 [00:22<3:42:27,  1.27s/it]"
          ],
          "name": "stderr"
        },
        {
          "output_type": "stream",
          "text": [
            "wrote /content/drive/MyDrive/Faktion/Datasets/DUTS-TR/DUTS-TR-Trimap-Simon-Output/ILSVRC2012_test_00015074.jpg.\n",
            "for loop 1\n"
          ],
          "name": "stdout"
        },
        {
          "output_type": "error",
          "ename": "KeyboardInterrupt",
          "evalue": "ignored",
          "traceback": [
            "\u001b[0;31m---------------------------------------------------------------------------\u001b[0m",
            "\u001b[0;31mKeyboardInterrupt\u001b[0m                         Traceback (most recent call last)",
            "\u001b[0;32m<ipython-input-16-26301feff050>\u001b[0m in \u001b[0;36m<module>\u001b[0;34m()\u001b[0m\n\u001b[1;32m     27\u001b[0m   \u001b[0mprint\u001b[0m\u001b[0;34m(\u001b[0m\u001b[0;34m'for loop 1'\u001b[0m\u001b[0;34m)\u001b[0m\u001b[0;34m\u001b[0m\u001b[0;34m\u001b[0m\u001b[0m\n\u001b[1;32m     28\u001b[0m   \u001b[0mfilename\u001b[0m \u001b[0;34m=\u001b[0m \u001b[0mos\u001b[0m\u001b[0;34m.\u001b[0m\u001b[0mpath\u001b[0m\u001b[0;34m.\u001b[0m\u001b[0mjoin\u001b[0m\u001b[0;34m(\u001b[0m\u001b[0mIMG_FOLDER\u001b[0m\u001b[0;34m,\u001b[0m \u001b[0mfile\u001b[0m\u001b[0;34m)\u001b[0m\u001b[0;34m\u001b[0m\u001b[0;34m\u001b[0m\u001b[0m\n\u001b[0;32m---> 29\u001b[0;31m   \u001b[0mimg\u001b[0m \u001b[0;34m=\u001b[0m \u001b[0mcv\u001b[0m\u001b[0;34m.\u001b[0m\u001b[0mimread\u001b[0m\u001b[0;34m(\u001b[0m\u001b[0mfilename\u001b[0m\u001b[0;34m)\u001b[0m\u001b[0;34m\u001b[0m\u001b[0;34m\u001b[0m\u001b[0m\n\u001b[0m\u001b[1;32m     30\u001b[0m   \u001b[0mprint\u001b[0m\u001b[0;34m(\u001b[0m\u001b[0mimg\u001b[0m\u001b[0;34m.\u001b[0m\u001b[0mshape\u001b[0m\u001b[0;34m)\u001b[0m\u001b[0;34m\u001b[0m\u001b[0;34m\u001b[0m\u001b[0m\n\u001b[1;32m     31\u001b[0m   \u001b[0mh\u001b[0m\u001b[0;34m,\u001b[0m \u001b[0mw\u001b[0m \u001b[0;34m=\u001b[0m \u001b[0mimg\u001b[0m\u001b[0;34m.\u001b[0m\u001b[0mshape\u001b[0m\u001b[0;34m[\u001b[0m\u001b[0;34m:\u001b[0m\u001b[0;36m2\u001b[0m\u001b[0;34m]\u001b[0m\u001b[0;34m\u001b[0m\u001b[0;34m\u001b[0m\u001b[0m\n",
            "\u001b[0;31mKeyboardInterrupt\u001b[0m: "
          ]
        }
      ]
    }
  ]
}